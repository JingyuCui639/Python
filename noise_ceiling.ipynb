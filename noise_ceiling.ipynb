{
 "cells": [
  {
   "cell_type": "markdown",
   "metadata": {},
   "source": [
    "# Noise ceiling function"
   ]
  },
  {
   "cell_type": "code",
   "execution_count": 1,
   "metadata": {},
   "outputs": [],
   "source": [
    "import pandas as pd\n",
    "import numpy as np\n",
    "import matplotlib.pyplot as plt\n",
    "import seaborn as sns\n",
    "from sklearn.model_selection import train_test_split, cross_val_score, KFold\n",
    "from sklearn.linear_model import LinearRegression\n",
    "from sklearn.pipeline import Pipeline\n",
    "from sklearn.preprocessing import StandardScaler, PolynomialFeatures\n",
    "from sklearn.metrics import mean_squared_error, mean_absolute_error, make_scorer\n",
    "import scipy.spatial as sp\n",
    "import scipy.optimize as so\n",
    "import random\n",
    "\n",
    "%matplotlib inline"
   ]
  },
  {
   "cell_type": "markdown",
   "metadata": {},
   "source": [
    "# Import datasets"
   ]
  },
  {
   "cell_type": "code",
   "execution_count": 2,
   "metadata": {},
   "outputs": [],
   "source": [
    "y_res11 = pd.read_csv('y_res11.csv', header=None)\n",
    "y_res12 = pd.read_csv('y_res12.csv', header=None)\n",
    "y_res13 = pd.read_csv('y_res13.csv', header=None)\n",
    "y_res21 = pd.read_csv('y_res21.csv', header=None)\n",
    "y_res22 = pd.read_csv('y_res22.csv', header=None)\n",
    "y_res23 = pd.read_csv('y_res23.csv', header=None)\n",
    "\n",
    "col_names=['x', 'y', 'z', 'depth']\n",
    "location11=pd.read_csv('location11.csv',names=col_names)\n",
    "location12=pd.read_csv('location12.csv',names=col_names)\n",
    "location13=pd.read_csv('location13.csv',names=col_names)\n",
    "location21=pd.read_csv('location21.csv',names=col_names)\n",
    "location22=pd.read_csv('location22.csv',names=col_names)\n",
    "location23=pd.read_csv('location23.csv',names=col_names)"
   ]
  },
  {
   "cell_type": "markdown",
   "metadata": {},
   "source": [
    "# View y_res.csv"
   ]
  },
  {
   "cell_type": "code",
   "execution_count": 3,
   "metadata": {},
   "outputs": [
    {
     "name": "stdout",
     "output_type": "stream",
     "text": [
      "(3488, 933)\n"
     ]
    },
    {
     "data": {
      "text/html": [
       "<div>\n",
       "<style scoped>\n",
       "    .dataframe tbody tr th:only-of-type {\n",
       "        vertical-align: middle;\n",
       "    }\n",
       "\n",
       "    .dataframe tbody tr th {\n",
       "        vertical-align: top;\n",
       "    }\n",
       "\n",
       "    .dataframe thead th {\n",
       "        text-align: right;\n",
       "    }\n",
       "</style>\n",
       "<table border=\"1\" class=\"dataframe\">\n",
       "  <thead>\n",
       "    <tr style=\"text-align: right;\">\n",
       "      <th></th>\n",
       "      <th>0</th>\n",
       "      <th>1</th>\n",
       "      <th>2</th>\n",
       "      <th>3</th>\n",
       "      <th>4</th>\n",
       "      <th>5</th>\n",
       "      <th>6</th>\n",
       "      <th>7</th>\n",
       "      <th>8</th>\n",
       "      <th>9</th>\n",
       "      <th>...</th>\n",
       "      <th>923</th>\n",
       "      <th>924</th>\n",
       "      <th>925</th>\n",
       "      <th>926</th>\n",
       "      <th>927</th>\n",
       "      <th>928</th>\n",
       "      <th>929</th>\n",
       "      <th>930</th>\n",
       "      <th>931</th>\n",
       "      <th>932</th>\n",
       "    </tr>\n",
       "  </thead>\n",
       "  <tbody>\n",
       "    <tr>\n",
       "      <th>0</th>\n",
       "      <td>-26.5160</td>\n",
       "      <td>26.62300</td>\n",
       "      <td>3.0929</td>\n",
       "      <td>-19.6980</td>\n",
       "      <td>-9.94000</td>\n",
       "      <td>13.3980</td>\n",
       "      <td>31.4680</td>\n",
       "      <td>39.0380</td>\n",
       "      <td>-7.9090</td>\n",
       "      <td>30.595</td>\n",
       "      <td>...</td>\n",
       "      <td>-10.58400</td>\n",
       "      <td>-20.8480</td>\n",
       "      <td>-0.41171</td>\n",
       "      <td>-23.511</td>\n",
       "      <td>-5.4647</td>\n",
       "      <td>-34.993</td>\n",
       "      <td>-45.190</td>\n",
       "      <td>7.9113</td>\n",
       "      <td>-6.2091</td>\n",
       "      <td>19.889</td>\n",
       "    </tr>\n",
       "    <tr>\n",
       "      <th>1</th>\n",
       "      <td>15.0100</td>\n",
       "      <td>9.73560</td>\n",
       "      <td>20.7270</td>\n",
       "      <td>14.5580</td>\n",
       "      <td>-14.63900</td>\n",
       "      <td>-48.0150</td>\n",
       "      <td>-13.7400</td>\n",
       "      <td>2.3699</td>\n",
       "      <td>19.0750</td>\n",
       "      <td>-14.124</td>\n",
       "      <td>...</td>\n",
       "      <td>22.24100</td>\n",
       "      <td>-10.2100</td>\n",
       "      <td>-0.78411</td>\n",
       "      <td>-37.818</td>\n",
       "      <td>-22.0660</td>\n",
       "      <td>-31.371</td>\n",
       "      <td>-47.510</td>\n",
       "      <td>-5.1689</td>\n",
       "      <td>25.4960</td>\n",
       "      <td>-10.574</td>\n",
       "    </tr>\n",
       "    <tr>\n",
       "      <th>2</th>\n",
       "      <td>-1.0803</td>\n",
       "      <td>14.36800</td>\n",
       "      <td>23.3040</td>\n",
       "      <td>-4.7900</td>\n",
       "      <td>-0.81247</td>\n",
       "      <td>-8.3198</td>\n",
       "      <td>29.9200</td>\n",
       "      <td>-9.7703</td>\n",
       "      <td>13.5050</td>\n",
       "      <td>-17.230</td>\n",
       "      <td>...</td>\n",
       "      <td>-26.06400</td>\n",
       "      <td>10.7070</td>\n",
       "      <td>-20.45600</td>\n",
       "      <td>-24.053</td>\n",
       "      <td>-9.7981</td>\n",
       "      <td>-49.775</td>\n",
       "      <td>-40.405</td>\n",
       "      <td>14.2920</td>\n",
       "      <td>-22.0380</td>\n",
       "      <td>37.135</td>\n",
       "    </tr>\n",
       "    <tr>\n",
       "      <th>3</th>\n",
       "      <td>-21.6400</td>\n",
       "      <td>-19.04700</td>\n",
       "      <td>-27.3580</td>\n",
       "      <td>13.7920</td>\n",
       "      <td>-13.71200</td>\n",
       "      <td>-13.1390</td>\n",
       "      <td>4.0264</td>\n",
       "      <td>-1.5494</td>\n",
       "      <td>20.5230</td>\n",
       "      <td>11.375</td>\n",
       "      <td>...</td>\n",
       "      <td>12.37900</td>\n",
       "      <td>-8.8534</td>\n",
       "      <td>-21.94300</td>\n",
       "      <td>-23.446</td>\n",
       "      <td>-32.8570</td>\n",
       "      <td>-55.697</td>\n",
       "      <td>-48.037</td>\n",
       "      <td>23.6720</td>\n",
       "      <td>-16.6120</td>\n",
       "      <td>26.502</td>\n",
       "    </tr>\n",
       "    <tr>\n",
       "      <th>4</th>\n",
       "      <td>-9.7808</td>\n",
       "      <td>0.83407</td>\n",
       "      <td>-23.7150</td>\n",
       "      <td>-5.2596</td>\n",
       "      <td>-19.04100</td>\n",
       "      <td>-8.0778</td>\n",
       "      <td>12.6460</td>\n",
       "      <td>-37.7300</td>\n",
       "      <td>-8.8727</td>\n",
       "      <td>18.778</td>\n",
       "      <td>...</td>\n",
       "      <td>0.47902</td>\n",
       "      <td>-25.2330</td>\n",
       "      <td>-33.06700</td>\n",
       "      <td>-23.311</td>\n",
       "      <td>-8.5716</td>\n",
       "      <td>-23.852</td>\n",
       "      <td>-70.533</td>\n",
       "      <td>27.3110</td>\n",
       "      <td>-8.6012</td>\n",
       "      <td>16.731</td>\n",
       "    </tr>\n",
       "  </tbody>\n",
       "</table>\n",
       "<p>5 rows × 933 columns</p>\n",
       "</div>"
      ],
      "text/plain": [
       "       0         1        2        3         4        5        6        7    \\\n",
       "0 -26.5160  26.62300   3.0929 -19.6980  -9.94000  13.3980  31.4680  39.0380   \n",
       "1  15.0100   9.73560  20.7270  14.5580 -14.63900 -48.0150 -13.7400   2.3699   \n",
       "2  -1.0803  14.36800  23.3040  -4.7900  -0.81247  -8.3198  29.9200  -9.7703   \n",
       "3 -21.6400 -19.04700 -27.3580  13.7920 -13.71200 -13.1390   4.0264  -1.5494   \n",
       "4  -9.7808   0.83407 -23.7150  -5.2596 -19.04100  -8.0778  12.6460 -37.7300   \n",
       "\n",
       "       8       9    ...       923      924       925     926      927     928  \\\n",
       "0  -7.9090  30.595  ... -10.58400 -20.8480  -0.41171 -23.511  -5.4647 -34.993   \n",
       "1  19.0750 -14.124  ...  22.24100 -10.2100  -0.78411 -37.818 -22.0660 -31.371   \n",
       "2  13.5050 -17.230  ... -26.06400  10.7070 -20.45600 -24.053  -9.7981 -49.775   \n",
       "3  20.5230  11.375  ...  12.37900  -8.8534 -21.94300 -23.446 -32.8570 -55.697   \n",
       "4  -8.8727  18.778  ...   0.47902 -25.2330 -33.06700 -23.311  -8.5716 -23.852   \n",
       "\n",
       "      929      930      931     932  \n",
       "0 -45.190   7.9113  -6.2091  19.889  \n",
       "1 -47.510  -5.1689  25.4960 -10.574  \n",
       "2 -40.405  14.2920 -22.0380  37.135  \n",
       "3 -48.037  23.6720 -16.6120  26.502  \n",
       "4 -70.533  27.3110  -8.6012  16.731  \n",
       "\n",
       "[5 rows x 933 columns]"
      ]
     },
     "execution_count": 3,
     "metadata": {},
     "output_type": "execute_result"
    }
   ],
   "source": [
    "print(y_res11.shape)\n",
    "y_res11.head()"
   ]
  },
  {
   "cell_type": "markdown",
   "metadata": {},
   "source": [
    "# View location.csv"
   ]
  },
  {
   "cell_type": "code",
   "execution_count": 4,
   "metadata": {},
   "outputs": [
    {
     "name": "stdout",
     "output_type": "stream",
     "text": [
      "(933, 4)\n"
     ]
    },
    {
     "data": {
      "text/html": [
       "<div>\n",
       "<style scoped>\n",
       "    .dataframe tbody tr th:only-of-type {\n",
       "        vertical-align: middle;\n",
       "    }\n",
       "\n",
       "    .dataframe tbody tr th {\n",
       "        vertical-align: top;\n",
       "    }\n",
       "\n",
       "    .dataframe thead th {\n",
       "        text-align: right;\n",
       "    }\n",
       "</style>\n",
       "<table border=\"1\" class=\"dataframe\">\n",
       "  <thead>\n",
       "    <tr style=\"text-align: right;\">\n",
       "      <th></th>\n",
       "      <th>x</th>\n",
       "      <th>y</th>\n",
       "      <th>z</th>\n",
       "      <th>depth</th>\n",
       "    </tr>\n",
       "  </thead>\n",
       "  <tbody>\n",
       "    <tr>\n",
       "      <th>0</th>\n",
       "      <td>-58.710</td>\n",
       "      <td>-64.143</td>\n",
       "      <td>-12.913</td>\n",
       "      <td>1.03130</td>\n",
       "    </tr>\n",
       "    <tr>\n",
       "      <th>1</th>\n",
       "      <td>-60.710</td>\n",
       "      <td>-64.135</td>\n",
       "      <td>-12.875</td>\n",
       "      <td>0.94725</td>\n",
       "    </tr>\n",
       "    <tr>\n",
       "      <th>2</th>\n",
       "      <td>-58.686</td>\n",
       "      <td>-62.365</td>\n",
       "      <td>-11.998</td>\n",
       "      <td>1.08950</td>\n",
       "    </tr>\n",
       "    <tr>\n",
       "      <th>3</th>\n",
       "      <td>-54.706</td>\n",
       "      <td>-66.854</td>\n",
       "      <td>-12.124</td>\n",
       "      <td>1.64540</td>\n",
       "    </tr>\n",
       "    <tr>\n",
       "      <th>4</th>\n",
       "      <td>-56.706</td>\n",
       "      <td>-66.845</td>\n",
       "      <td>-12.087</td>\n",
       "      <td>1.12620</td>\n",
       "    </tr>\n",
       "  </tbody>\n",
       "</table>\n",
       "</div>"
      ],
      "text/plain": [
       "        x       y       z    depth\n",
       "0 -58.710 -64.143 -12.913  1.03130\n",
       "1 -60.710 -64.135 -12.875  0.94725\n",
       "2 -58.686 -62.365 -11.998  1.08950\n",
       "3 -54.706 -66.854 -12.124  1.64540\n",
       "4 -56.706 -66.845 -12.087  1.12620"
      ]
     },
     "execution_count": 4,
     "metadata": {},
     "output_type": "execute_result"
    }
   ],
   "source": [
    "print(location11.shape)\n",
    "location11.head()"
   ]
  },
  {
   "cell_type": "markdown",
   "metadata": {},
   "source": [
    "# Define a function get correlation from any given y_res"
   ]
  },
  {
   "cell_type": "code",
   "execution_count": 5,
   "metadata": {},
   "outputs": [],
   "source": [
    "def get_corr(Y_res):\n",
    "    \n",
    "    #obtaining the correlation between voxels\n",
    "    corr=Y_res.corr(method ='pearson')\n",
    "    corr_tril=np.tril(corr,k=-1)\n",
    "    Corr=corr_tril[np.nonzero(corr_tril)]\n",
    "    Corr=Corr.reshape(-1,1)\n",
    "    Corr=pd.DataFrame(Corr)\n",
    "    return Corr"
   ]
  },
  {
   "cell_type": "markdown",
   "metadata": {},
   "source": [
    "# Define a function get design matrix X from dataframe: location\n",
    "### exp_model: $Corr=\\beta_0+\\beta_1*exp(-dist*\\gamma)+\\beta_2*dep1+\\beta_3*dep2+\\beta4*dep1*dep2$\n",
    "### power_model: $Corr=\\beta_0+\\beta_1*eta^{dist}+\\beta_2*dep1+\\beta_3*dep2+\\beta4*dep1*dep2$"
   ]
  },
  {
   "cell_type": "code",
   "execution_count": 6,
   "metadata": {},
   "outputs": [],
   "source": [
    "def get_design_matrix(Location,gamma=0.2,eta=0.8):\n",
    "\n",
    "    #Obtaining the distance between voxels\n",
    "    dist_matrix=sp.distance_matrix(Location.iloc[:,0:2],Location.iloc[:,0:2])\n",
    "    dist_tril=np.tril(dist_matrix,k=-1)\n",
    "    rowid,colid=np.nonzero(dist_tril)\n",
    "    dist=dist_tril[rowid,colid]\n",
    "    dist=dist.reshape(-1,1)\n",
    "    \n",
    "    exp_dist=np.exp(-dist*gamma)\n",
    "    power_dist=[eta**k for k in dist]\n",
    "\n",
    "    #Obtaining the depth from the 1st voxel\n",
    "    dep1=Location.depth[rowid]\n",
    "    dep1=dep1.values\n",
    "    dep1=dep1.reshape(-1,1)\n",
    "\n",
    "    #obtaining depth from the 2ed voxel\n",
    "    dep2=Location.depth[colid]\n",
    "    dep2=dep2.values\n",
    "    dep2=dep2.reshape(-1,1)\n",
    "\n",
    "    dep1_2=dep1*dep2\n",
    "\n",
    "    #Creat the design matrix\n",
    "    X_exp=np.concatenate((exp_dist,dep1,dep2,dep1_2),axis=1)\n",
    "    names_exp=['exp_dist','dep1','dep2','dep12']\n",
    "    X_exp=pd.DataFrame(X_exp,columns=names_exp)\n",
    "    \n",
    "    X_power=np.concatenate((power_dist,dep1,dep2,dep1_2),axis=1)\n",
    "    names_power=['power_dist','dep1','dep2','dep12']\n",
    "    X_power=pd.DataFrame(X_power,columns=names_power)\n",
    "    \n",
    "    #make design matrices as a dictionary\n",
    "    design_dict={\"exp\": X_exp,\n",
    "                \"power\": X_power}\n",
    "    \n",
    "    #return a dictionary with model names and corresponding design matrix X\n",
    "    return design_dict"
   ]
  },
  {
   "cell_type": "code",
   "execution_count": 7,
   "metadata": {},
   "outputs": [
    {
     "data": {
      "text/plain": [
       "{'exp':         exp_dist     dep1      dep2     dep12\n",
       " 0       0.670318  0.94725  1.031300  0.976899\n",
       " 1       0.700730  1.08950  1.031300  1.123601\n",
       " 2       0.584059  1.08950  0.947250  1.032029\n",
       " 3       0.380188  1.64540  1.031300  1.696901\n",
       " 4       0.267618  1.64540  0.947250  1.558605\n",
       " 5       0.301237  1.64540  1.089500  1.792663\n",
       " 6       0.510273  1.12620  1.031300  1.161450\n",
       " 7       0.380231  1.12620  0.947250  1.066793\n",
       " 8       0.375458  1.12620  1.089500  1.226995\n",
       " 9       0.670317  1.12620  1.645400  1.853049\n",
       " 10      0.583447  0.82555  1.031300  0.851390\n",
       " 11      0.510212  0.82555  0.947250  0.782002\n",
       " 12      0.408850  0.82555  1.089500  0.899437\n",
       " 13      0.449416  0.82555  1.645400  1.358360\n",
       " 14      0.670452  0.82555  1.126200  0.929734\n",
       " 15      0.512217  1.11840  1.031300  1.153406\n",
       " 16      0.583564  1.11840  0.947250  1.059404\n",
       " 17      0.375428  1.11840  1.089500  1.218497\n",
       " 18      0.301251  1.11840  1.645400  1.840215\n",
       " 19      0.449416  1.11840  1.126200  1.259542\n",
       " 20      0.670317  1.11840  0.825550  0.923295\n",
       " 21      0.382205  1.62400  1.031300  1.674831\n",
       " 22      0.512217  1.62400  0.947250  1.538334\n",
       " 23      0.301197  1.62400  1.089500  1.769348\n",
       " 24      0.201934  1.62400  1.645400  2.672130\n",
       " 25      0.301251  1.62400  1.126200  1.828949\n",
       " 26      0.449326  1.62400  0.825550  1.340693\n",
       " 27      0.670318  1.62400  1.118400  1.816282\n",
       " 28      0.437325  1.47770  1.031300  1.523952\n",
       " 29      0.295122  1.47770  0.947250  1.399751\n",
       " ...          ...      ...       ...       ...\n",
       " 434748  0.409919 -0.12543 -0.359220  0.045057\n",
       " 434749  0.248632 -0.12543 -0.322030  0.040392\n",
       " 434750  0.343001 -0.12543 -0.136790  0.017158\n",
       " 434751  0.273504 -0.12543 -0.516600  0.064797\n",
       " 434752  0.307035 -0.12543 -0.480310  0.060245\n",
       " 434753  0.381575 -0.12543  0.147150 -0.018457\n",
       " 434754  0.413111 -0.12543  0.299820 -0.037606\n",
       " 434755  0.387748 -0.12543  0.146870 -0.018422\n",
       " 434756  0.519731 -0.12543  0.557390 -0.069913\n",
       " 434757  0.589530 -0.12543  0.632170 -0.079293\n",
       " 434758  0.511277 -0.12543  0.517010 -0.064849\n",
       " 434759  0.445487 -0.12543  0.706250 -0.088585\n",
       " 434760  0.652851 -0.12543  0.859390 -0.107793\n",
       " 434761  0.841190 -0.12543  0.903050 -0.113270\n",
       " 434762  0.641012 -0.12543  0.595860 -0.074739\n",
       " 434763  0.436891 -0.12543 -0.109220  0.013699\n",
       " 434764  0.443036 -0.12543  0.790340 -0.099132\n",
       " 434765  0.648072 -0.12543  0.544360 -0.068279\n",
       " 434766  0.832692 -0.12543  0.330860 -0.041500\n",
       " 434767  0.640249 -0.12543  0.025749 -0.003230\n",
       " 434768  0.382205 -0.12543 -0.254880  0.031970\n",
       " 434769  0.512217 -0.12543 -0.088030  0.011042\n",
       " 434770  0.344004 -0.12543 -0.216900  0.027206\n",
       " 434771  0.344642 -0.12543 -0.384140  0.048183\n",
       " 434772  0.443619 -0.12543 -0.010557  0.001324\n",
       " 434773  0.417989 -0.12543  0.026901 -0.003374\n",
       " 434774  0.587023 -0.12543  0.212560 -0.026661\n",
       " 434775  0.700730 -0.12543  0.185960 -0.023325\n",
       " 434776  0.449416 -0.12543  0.067461 -0.008462\n",
       " 434777  0.670318 -0.12543 -0.016597  0.002082\n",
       " \n",
       " [434778 rows x 4 columns],\n",
       " 'power':         power_dist     dep1      dep2     dep12\n",
       " 0         0.639998  0.94725  1.031300  0.976899\n",
       " 1         0.672478  1.08950  1.031300  1.123601\n",
       " 2         0.548822  1.08950  0.947250  1.032029\n",
       " 3         0.339936  1.64540  1.031300  1.696901\n",
       " 4         0.229757  1.64540  0.947250  1.558605\n",
       " 5         0.262185  1.64540  1.089500  1.792663\n",
       " 6         0.472052  1.12620  1.031300  1.161450\n",
       " 7         0.339978  1.12620  0.947250  1.066793\n",
       " 8         0.335221  1.12620  1.089500  1.226995\n",
       " 9         0.639997  1.12620  1.645400  1.853049\n",
       " 10        0.548181  0.82555  1.031300  0.851390\n",
       " 11        0.471989  0.82555  0.947250  0.782002\n",
       " 12        0.368650  0.82555  1.089500  0.899437\n",
       " 13        0.409688  0.82555  1.645400  1.358360\n",
       " 14        0.640141  0.82555  1.126200  0.929734\n",
       " 15        0.474059  1.11840  1.031300  1.153406\n",
       " 16        0.548303  1.11840  0.947250  1.059404\n",
       " 17        0.335191  1.11840  1.089500  1.218497\n",
       " 18        0.262199  1.11840  1.645400  1.840215\n",
       " 19        0.409688  1.11840  1.126200  1.259542\n",
       " 20        0.639997  1.11840  0.825550  0.923295\n",
       " 21        0.341949  1.62400  1.031300  1.674831\n",
       " 22        0.474059  1.62400  0.947250  1.538334\n",
       " 23        0.262147  1.62400  1.089500  1.769348\n",
       " 24        0.167807  1.62400  1.645400  2.672130\n",
       " 25        0.262199  1.62400  1.126200  1.828949\n",
       " 26        0.409597  1.62400  0.825550  1.340693\n",
       " 27        0.639998  1.62400  1.118400  1.816282\n",
       " 28        0.397410  1.47770  1.031300  1.523952\n",
       " 29        0.256254  1.47770  0.947250  1.399751\n",
       " ...            ...      ...       ...       ...\n",
       " 434748    0.369726 -0.12543 -0.359220  0.045057\n",
       " 434749    0.211647 -0.12543 -0.322030  0.040392\n",
       " 434750    0.303054 -0.12543 -0.136790  0.017158\n",
       " 434751    0.235402 -0.12543 -0.516600  0.064797\n",
       " 434752    0.267822 -0.12543 -0.480310  0.060245\n",
       " 434753    0.341320 -0.12543  0.147150 -0.018457\n",
       " 434754    0.372939 -0.12543  0.299820 -0.037606\n",
       " 434755    0.347486 -0.12543  0.146870 -0.018422\n",
       " 434756    0.481824 -0.12543  0.557390 -0.069913\n",
       " 434757    0.554561 -0.12543  0.632170 -0.079293\n",
       " 434758    0.473089 -0.12543  0.517010 -0.064849\n",
       " 434759    0.405695 -0.12543  0.706250 -0.088585\n",
       " 434760    0.621419 -0.12543  0.859390 -0.107793\n",
       " 434761    0.824524 -0.12543  0.903050 -0.113270\n",
       " 434762    0.608859 -0.12543  0.595860 -0.074739\n",
       " 434763    0.396971 -0.12543 -0.109220  0.013699\n",
       " 434764    0.403205 -0.12543  0.790340 -0.099132\n",
       " 434765    0.616346 -0.12543  0.544360 -0.068279\n",
       " 434766    0.815235 -0.12543  0.330860 -0.041500\n",
       " 434767    0.608051 -0.12543  0.025749 -0.003230\n",
       " 434768    0.341949 -0.12543 -0.254880  0.031970\n",
       " 434769    0.474059 -0.12543 -0.088030  0.011042\n",
       " 434770    0.304043 -0.12543 -0.216900  0.027206\n",
       " 434771    0.304673 -0.12543 -0.384140  0.048183\n",
       " 434772    0.403797 -0.12543 -0.010557  0.001324\n",
       " 434773    0.377857 -0.12543  0.026901 -0.003374\n",
       " 434774    0.551931 -0.12543  0.212560 -0.026661\n",
       " 434775    0.672478 -0.12543  0.185960 -0.023325\n",
       " 434776    0.409688 -0.12543  0.067461 -0.008462\n",
       " 434777    0.639998 -0.12543 -0.016597  0.002082\n",
       " \n",
       " [434778 rows x 4 columns]}"
      ]
     },
     "execution_count": 7,
     "metadata": {},
     "output_type": "execute_result"
    }
   ],
   "source": [
    "get_design_matrix(location11)"
   ]
  },
  {
   "cell_type": "markdown",
   "metadata": {},
   "source": [
    "## Function model_evaluation\n",
    "### taking input: noise matrix, model (design matrix X), evaluation method , num of runs; \n",
    "### returning: the $R^2$ for each of the model,  lower bound  and upper bound of noise ceiling"
   ]
  },
  {
   "cell_type": "code",
   "execution_count": 8,
   "metadata": {},
   "outputs": [],
   "source": [
    "def model_evaluation(Y_res, design_matrix=None, evaluation_method=\"R_sqr\",num_run=8):\n",
    "    #design_matrix: a dictionary of a list of design matrices (with name as index name)\n",
    "    \n",
    "    #add noise ceiling model into the model dictionary\n",
    "    design_matrix[\"noise ceiling\"]=None\n",
    "\n",
    "    #split Y_res into n equal pieces according to the number of runs (n)    \n",
    "    r_sqr_low_result=np.zeros((len(design_matrix),num_run))\n",
    "    r_sqr_up_result=np.zeros((len(design_matrix),num_run))\n",
    "    kf = KFold(n_splits=num_run)\n",
    "    i=0\n",
    "    for train_index, test_index in kf.split(Y_res):\n",
    "\n",
    "        #Calculating correlation matrix for train, test and all data\n",
    "        Corr_train=get_corr(Y_res.loc[train_index])\n",
    "        Corr_test=get_corr(Y_res.loc[test_index])\n",
    "        Corr_allrun=get_corr(Y_res)\n",
    "        \n",
    "        j=0\n",
    "        for model_key, model_design_matr in design_matrix.items():\n",
    "          \n",
    "            if model_key==\"noise ceiling\":\n",
    "                \n",
    "                ESS_lowbound=np.sum((Corr_train-Corr_test)**2)\n",
    "                ESS_upbound=np.sum((Corr_allrun-Corr_test)**2)\n",
    "                mu=np.mean(Corr_test)\n",
    "                TSS=np.sum((Corr_test-mu)**2)\n",
    "                \n",
    "                #Calculating R^2 for the model\n",
    "                if evaluation_method==\"R_sqr\":\n",
    "                    r_sqr_low=1-ESS_lowbound/TSS\n",
    "                    r_sqr_up=1-ESS_upbound/TSS                \n",
    "            else:              \n",
    "                #\n",
    "                linmodel_train = LinearRegression().fit(model_design_matr, Corr_train)\n",
    "                linmodel_all = LinearRegression().fit(model_design_matr, Corr_allrun)\n",
    "                \n",
    "                #calculating R^2 for the model\n",
    "                if evaluation_method==\"R_sqr\":\n",
    "                    r_sqr_low=linmodel_train.score(model_design_matr, Corr_test) \n",
    "                    r_sqr_up=linmodel_all.score(model_design_matr, Corr_test)\n",
    "                        \n",
    "            #Store lower and upper bound of R^2 for each model into a numpy array\n",
    "            r_sqr_low_result[j,i]=r_sqr_low\n",
    "            r_sqr_up_result[j,i]=r_sqr_up\n",
    "            \n",
    "            j+=1\n",
    "            \n",
    "        i+=1\n",
    "            \n",
    "    #taking average among 8 fits (taking average along the row)     \n",
    "    R_sqr_lowbound=np.mean(r_sqr_low_result, axis = 1)\n",
    "    R_sqr_upbound=np.mean(r_sqr_up_result, axis=1)\n",
    "    \n",
    "    #build up a dictionary to store the result:\n",
    "    result={}\n",
    "    k=0\n",
    "    for model_key in design_matrix:      \n",
    "        result[model_key]=[R_sqr_lowbound[k],R_sqr_upbound[k]]\n",
    "        k+=1\n",
    "    \n",
    "    #Reture the result: a dictionary that contains the lower bound and upper bound for each model\n",
    "    return result"
   ]
  },
  {
   "cell_type": "code",
   "execution_count": 10,
   "metadata": {},
   "outputs": [],
   "source": [
    "model_dict=get_design_matrix(location11)\n"
   ]
  },
  {
   "cell_type": "code",
   "execution_count": 11,
   "metadata": {},
   "outputs": [],
   "source": [
    "results_model_evaluat=model_evaluation(y_res11, model_dict)"
   ]
  },
  {
   "cell_type": "code",
   "execution_count": 12,
   "metadata": {},
   "outputs": [
    {
     "data": {
      "text/plain": [
       "{'exp': [0.061917125189819094, 0.06267792479555069],\n",
       " 'power': [0.06203040443232423, 0.06278922092817175],\n",
       " 'noise ceiling': [0.16107911783373707, 0.3605663390102093]}"
      ]
     },
     "execution_count": 12,
     "metadata": {},
     "output_type": "execute_result"
    }
   ],
   "source": [
    "result1=results_model_evaluat.copy()\n",
    "result1"
   ]
  },
  {
   "cell_type": "markdown",
   "metadata": {},
   "source": [
    "### Test function"
   ]
  },
  {
   "cell_type": "markdown",
   "metadata": {},
   "source": [
    "## Creating a graph showing the result from function: model_evaluation()"
   ]
  },
  {
   "cell_type": "code",
   "execution_count": 15,
   "metadata": {},
   "outputs": [],
   "source": [
    "def barplot_noisebounds(result_model_evaluation, plot_type=\"bar\"):\n",
    "    \n",
    "    result_model_eval_copy=result_model_evaluation.copy()\n",
    "    #obtain the lower and upper bounds for noise ceiling\n",
    "    noise_lowbound, noise_upbound=result_model_eval_copy.pop(\"noise ceiling\")\n",
    "    \n",
    "    model_name=[key for key in result_model_eval_copy]\n",
    "    r_sqr=[lower_bound[0] for lower_bound in result_model_eval_copy.values()]\n",
    "    \n",
    "    if plot_type==\"bar\":\n",
    "        plt.figure(figsize=(7.5,5))\n",
    "        ax=sns.barplot(model_name,r_sqr)\n",
    "        #change the bar width \n",
    "        widthbars=[0.3,0.3]\n",
    "        for bar ,newwidth in zip(ax.patches, widthbars):\n",
    "            x=bar.get_x()\n",
    "            width=bar.get_width()\n",
    "            center=x+width/2\n",
    "            bar.set_x(center-newwidth/2.)\n",
    "            bar.set_width(newwidth)\n",
    "        #ax.set(ylim=(0, 0.2))\n",
    "        ax.axhline(noise_lowbound, ls='--',color=\"gray\")\n",
    "        ax.axhline(noise_upbound, ls='--',color=\"gray\")"
   ]
  },
  {
   "cell_type": "markdown",
   "metadata": {},
   "source": [
    "### Result from subject 1 region1"
   ]
  },
  {
   "cell_type": "code",
   "execution_count": 13,
   "metadata": {},
   "outputs": [
    {
     "data": {
      "text/plain": [
       "{'exp': [0.061917125189819094, 0.06267792479555069],\n",
       " 'power': [0.06203040443232423, 0.06278922092817175],\n",
       " 'noise ceiling': [0.16107911783373707, 0.3605663390102093]}"
      ]
     },
     "execution_count": 13,
     "metadata": {},
     "output_type": "execute_result"
    }
   ],
   "source": [
    "model_dict=get_design_matrix(location11)\n",
    "results_model_evaluat=model_evaluation(y_res11, model_dict)\n",
    "results_model_evaluat"
   ]
  },
  {
   "cell_type": "code",
   "execution_count": 16,
   "metadata": {
    "scrolled": true
   },
   "outputs": [
    {
     "data": {
      "image/png": "[encoded data removed]",
      "text/plain": [
       "<Figure size 540x360 with 1 Axes>"
      ]
     },
     "metadata": {
      "needs_background": "light"
     },
     "output_type": "display_data"
    }
   ],
   "source": [
    "barplot_noisebounds(results_model_evaluat)"
   ]
  },
  {
   "cell_type": "markdown",
   "metadata": {},
   "source": [
    "### Result from subject 1 region 2"
   ]
  },
  {
   "cell_type": "code",
   "execution_count": 17,
   "metadata": {},
   "outputs": [
    {
     "data": {
      "text/plain": [
       "{'exp': [0.10959755774601727, 0.111865895073857],\n",
       " 'power': [0.10976842184718591, 0.11203733261173494],\n",
       " 'noise ceiling': [0.31225772168404214, 0.4749372760342793]}"
      ]
     },
     "execution_count": 17,
     "metadata": {},
     "output_type": "execute_result"
    }
   ],
   "source": [
    "model_dict12=get_design_matrix(location12)\n",
    "results_model_evaluat12=model_evaluation(y_res12, model_dict12)\n",
    "results_model_evaluat12"
   ]
  },
  {
   "cell_type": "code",
   "execution_count": 18,
   "metadata": {},
   "outputs": [
    {
     "data": {
      "image/png": "[encoded data removed]",
      "text/plain": [
       "<Figure size 540x360 with 1 Axes>"
      ]
     },
     "metadata": {
      "needs_background": "light"
     },
     "output_type": "display_data"
    }
   ],
   "source": [
    "barplot_noisebounds(results_model_evaluat12)"
   ]
  },
  {
   "cell_type": "code",
   "execution_count": null,
   "metadata": {},
   "outputs": [],
   "source": []
  },
  {
   "cell_type": "markdown",
   "metadata": {},
   "source": [
    "### Result from subject 1 region 3"
   ]
  },
  {
   "cell_type": "code",
   "execution_count": 19,
   "metadata": {},
   "outputs": [
    {
     "data": {
      "text/plain": [
       "{'exp': [0.030324517984222976, 0.032658774384733205],\n",
       " 'power': [0.03047033682626825, 0.03280173726159839],\n",
       " 'noise ceiling': [0.10935000350996608, 0.32311350204718653]}"
      ]
     },
     "execution_count": 19,
     "metadata": {},
     "output_type": "execute_result"
    }
   ],
   "source": [
    "model_dict13=get_design_matrix(location13)\n",
    "results_model_evaluat13=model_evaluation(y_res13, model_dict13)\n",
    "results_model_evaluat13"
   ]
  },
  {
   "cell_type": "code",
   "execution_count": 20,
   "metadata": {},
   "outputs": [
    {
     "data": {
      "image/png": "[encoded data removed]",
      "text/plain": [
       "<Figure size 540x360 with 1 Axes>"
      ]
     },
     "metadata": {
      "needs_background": "light"
     },
     "output_type": "display_data"
    }
   ],
   "source": [
    "barplot_noisebounds(results_model_evaluat13)"
   ]
  },
  {
   "cell_type": "code",
   "execution_count": null,
   "metadata": {},
   "outputs": [],
   "source": []
  },
  {
   "cell_type": "markdown",
   "metadata": {},
   "source": [
    "### Result from subject 2 region 1"
   ]
  },
  {
   "cell_type": "code",
   "execution_count": 21,
   "metadata": {},
   "outputs": [
    {
     "data": {
      "text/plain": [
       "{'exp': [0.04102099501199952, 0.04186645591164358],\n",
       " 'power': [0.04105436735906269, 0.04189959915336465],\n",
       " 'noise ceiling': [0.5790216753420147, 0.677471308361812]}"
      ]
     },
     "execution_count": 21,
     "metadata": {},
     "output_type": "execute_result"
    }
   ],
   "source": [
    "model_dict21=get_design_matrix(location21)\n",
    "results_model_evaluat21=model_evaluation(y_res21, model_dict21)\n",
    "results_model_evaluat21"
   ]
  },
  {
   "cell_type": "code",
   "execution_count": 22,
   "metadata": {},
   "outputs": [
    {
     "data": {
      "image/png": "[encoded data removed]",
      "text/plain": [
       "<Figure size 540x360 with 1 Axes>"
      ]
     },
     "metadata": {
      "needs_background": "light"
     },
     "output_type": "display_data"
    }
   ],
   "source": [
    "barplot_noisebounds(results_model_evaluat21)"
   ]
  },
  {
   "cell_type": "markdown",
   "metadata": {},
   "source": [
    "### Result from subject 2 region 2"
   ]
  },
  {
   "cell_type": "code",
   "execution_count": 23,
   "metadata": {},
   "outputs": [
    {
     "data": {
      "text/plain": [
       "{'exp': [0.12229098517988554, 0.12462058712479583],\n",
       " 'power': [0.12256960706017499, 0.12490038442714382],\n",
       " 'noise ceiling': [0.5291806168497728, 0.6395822277745999]}"
      ]
     },
     "execution_count": 23,
     "metadata": {},
     "output_type": "execute_result"
    }
   ],
   "source": [
    "model_dict22=get_design_matrix(location22)\n",
    "results_model_evaluat22=model_evaluation(y_res22, model_dict22)\n",
    "results_model_evaluat22"
   ]
  },
  {
   "cell_type": "code",
   "execution_count": 24,
   "metadata": {},
   "outputs": [
    {
     "data": {
      "image/png": "[encoded data removed]",
      "text/plain": [
       "<Figure size 540x360 with 1 Axes>"
      ]
     },
     "metadata": {
      "needs_background": "light"
     },
     "output_type": "display_data"
    }
   ],
   "source": [
    "barplot_noisebounds(results_model_evaluat22)"
   ]
  },
  {
   "cell_type": "markdown",
   "metadata": {},
   "source": [
    "### Result from subject 2 region 3"
   ]
  },
  {
   "cell_type": "code",
   "execution_count": 25,
   "metadata": {},
   "outputs": [
    {
     "data": {
      "text/plain": [
       "{'exp': [0.03642208600715162, 0.03687845694416203],\n",
       " 'power': [0.03663244913292328, 0.03708969775421496],\n",
       " 'noise ceiling': [0.35659577311250357, 0.5067820134729759]}"
      ]
     },
     "execution_count": 25,
     "metadata": {},
     "output_type": "execute_result"
    }
   ],
   "source": [
    "model_dict23=get_design_matrix(location23)\n",
    "results_model_evaluat23=model_evaluation(y_res23, model_dict23)\n",
    "results_model_evaluat23"
   ]
  },
  {
   "cell_type": "code",
   "execution_count": 26,
   "metadata": {},
   "outputs": [
    {
     "data": {
      "image/png": "[encoded data removed]",
      "text/plain": [
       "<Figure size 540x360 with 1 Axes>"
      ]
     },
     "metadata": {
      "needs_background": "light"
     },
     "output_type": "display_data"
    }
   ],
   "source": [
    "barplot_noisebounds(results_model_evaluat23)"
   ]
  },
  {
   "cell_type": "code",
   "execution_count": null,
   "metadata": {},
   "outputs": [],
   "source": []
  },
  {
   "cell_type": "code",
   "execution_count": null,
   "metadata": {},
   "outputs": [],
   "source": []
  }
 ],
 "metadata": {
  "kernelspec": {
   "display_name": "Python 3",
   "language": "python",
   "name": "python3"
  },
  "language_info": {
   "codemirror_mode": {
    "name": "ipython",
    "version": 3
   },
   "file_extension": ".py",
   "mimetype": "text/x-python",
   "name": "python",
   "nbconvert_exporter": "python",
   "pygments_lexer": "ipython3",
   "version": "3.7.3"
  },
  "widgets": {
   "application/vnd.jupyter.widget-state+json": {
    "state": {},
    "version_major": 2,
    "version_minor": 0
   }
  }
 },
 "nbformat": 4,
 "nbformat_minor": 2
}
