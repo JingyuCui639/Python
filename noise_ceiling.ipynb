{
 "cells": [
  {
   "cell_type": "markdown",
   "metadata": {},
   "source": [
    "# Noise ceiling function"
   ]
  },
  {
   "cell_type": "code",
   "execution_count": 14,
   "metadata": {},
   "outputs": [],
   "source": [
    "import pandas as pd\n",
    "import numpy as np\n",
    "import matplotlib.pyplot as plt\n",
    "import seaborn as sns\n",
    "from sklearn.model_selection import train_test_split, cross_val_score, KFold\n",
    "from sklearn.linear_model import LinearRegression\n",
    "from sklearn.pipeline import Pipeline\n",
    "from sklearn.preprocessing import StandardScaler, PolynomialFeatures\n",
    "from sklearn.metrics import mean_squared_error, mean_absolute_error, make_scorer\n",
    "import scipy.spatial as sp\n",
    "import scipy.optimize as so\n",
    "import random\n",
    "\n",
    "%matplotlib inline"
   ]
  },
  {
   "cell_type": "markdown",
   "metadata": {},
   "source": [
    "# Import datasets"
   ]
  },
  {
   "cell_type": "code",
   "execution_count": 15,
   "metadata": {},
   "outputs": [],
   "source": [
    "y_res = pd.read_csv('y_res1.csv', header=None)\n",
    "\n",
    "col_names=['x', 'y', 'z', 'depth']\n",
    "location=pd.read_csv('location.csv',names=col_names)"
   ]
  },
  {
   "cell_type": "markdown",
   "metadata": {},
   "source": [
    "# View y_res.csv"
   ]
  },
  {
   "cell_type": "code",
   "execution_count": 16,
   "metadata": {},
   "outputs": [
    {
     "name": "stdout",
     "output_type": "stream",
     "text": [
      "(3488, 933)\n"
     ]
    },
    {
     "data": {
      "text/html": [
       "<div>\n",
       "<style scoped>\n",
       "    .dataframe tbody tr th:only-of-type {\n",
       "        vertical-align: middle;\n",
       "    }\n",
       "\n",
       "    .dataframe tbody tr th {\n",
       "        vertical-align: top;\n",
       "    }\n",
       "\n",
       "    .dataframe thead th {\n",
       "        text-align: right;\n",
       "    }\n",
       "</style>\n",
       "<table border=\"1\" class=\"dataframe\">\n",
       "  <thead>\n",
       "    <tr style=\"text-align: right;\">\n",
       "      <th></th>\n",
       "      <th>0</th>\n",
       "      <th>1</th>\n",
       "      <th>2</th>\n",
       "      <th>3</th>\n",
       "      <th>4</th>\n",
       "      <th>5</th>\n",
       "      <th>6</th>\n",
       "      <th>7</th>\n",
       "      <th>8</th>\n",
       "      <th>9</th>\n",
       "      <th>...</th>\n",
       "      <th>923</th>\n",
       "      <th>924</th>\n",
       "      <th>925</th>\n",
       "      <th>926</th>\n",
       "      <th>927</th>\n",
       "      <th>928</th>\n",
       "      <th>929</th>\n",
       "      <th>930</th>\n",
       "      <th>931</th>\n",
       "      <th>932</th>\n",
       "    </tr>\n",
       "  </thead>\n",
       "  <tbody>\n",
       "    <tr>\n",
       "      <th>0</th>\n",
       "      <td>-26.5160</td>\n",
       "      <td>26.62300</td>\n",
       "      <td>3.0929</td>\n",
       "      <td>-19.6980</td>\n",
       "      <td>-9.94000</td>\n",
       "      <td>13.3980</td>\n",
       "      <td>31.4680</td>\n",
       "      <td>39.0380</td>\n",
       "      <td>-7.9090</td>\n",
       "      <td>30.595</td>\n",
       "      <td>...</td>\n",
       "      <td>-10.58400</td>\n",
       "      <td>-20.8480</td>\n",
       "      <td>-0.41171</td>\n",
       "      <td>-23.511</td>\n",
       "      <td>-5.4647</td>\n",
       "      <td>-34.993</td>\n",
       "      <td>-45.190</td>\n",
       "      <td>7.9113</td>\n",
       "      <td>-6.2091</td>\n",
       "      <td>19.889</td>\n",
       "    </tr>\n",
       "    <tr>\n",
       "      <th>1</th>\n",
       "      <td>15.0100</td>\n",
       "      <td>9.73560</td>\n",
       "      <td>20.7270</td>\n",
       "      <td>14.5580</td>\n",
       "      <td>-14.63900</td>\n",
       "      <td>-48.0150</td>\n",
       "      <td>-13.7400</td>\n",
       "      <td>2.3699</td>\n",
       "      <td>19.0750</td>\n",
       "      <td>-14.124</td>\n",
       "      <td>...</td>\n",
       "      <td>22.24100</td>\n",
       "      <td>-10.2100</td>\n",
       "      <td>-0.78411</td>\n",
       "      <td>-37.818</td>\n",
       "      <td>-22.0660</td>\n",
       "      <td>-31.371</td>\n",
       "      <td>-47.510</td>\n",
       "      <td>-5.1689</td>\n",
       "      <td>25.4960</td>\n",
       "      <td>-10.574</td>\n",
       "    </tr>\n",
       "    <tr>\n",
       "      <th>2</th>\n",
       "      <td>-1.0803</td>\n",
       "      <td>14.36800</td>\n",
       "      <td>23.3040</td>\n",
       "      <td>-4.7900</td>\n",
       "      <td>-0.81247</td>\n",
       "      <td>-8.3198</td>\n",
       "      <td>29.9200</td>\n",
       "      <td>-9.7703</td>\n",
       "      <td>13.5050</td>\n",
       "      <td>-17.230</td>\n",
       "      <td>...</td>\n",
       "      <td>-26.06400</td>\n",
       "      <td>10.7070</td>\n",
       "      <td>-20.45600</td>\n",
       "      <td>-24.053</td>\n",
       "      <td>-9.7981</td>\n",
       "      <td>-49.775</td>\n",
       "      <td>-40.405</td>\n",
       "      <td>14.2920</td>\n",
       "      <td>-22.0380</td>\n",
       "      <td>37.135</td>\n",
       "    </tr>\n",
       "    <tr>\n",
       "      <th>3</th>\n",
       "      <td>-21.6400</td>\n",
       "      <td>-19.04700</td>\n",
       "      <td>-27.3580</td>\n",
       "      <td>13.7920</td>\n",
       "      <td>-13.71200</td>\n",
       "      <td>-13.1390</td>\n",
       "      <td>4.0264</td>\n",
       "      <td>-1.5494</td>\n",
       "      <td>20.5230</td>\n",
       "      <td>11.375</td>\n",
       "      <td>...</td>\n",
       "      <td>12.37900</td>\n",
       "      <td>-8.8534</td>\n",
       "      <td>-21.94300</td>\n",
       "      <td>-23.446</td>\n",
       "      <td>-32.8570</td>\n",
       "      <td>-55.697</td>\n",
       "      <td>-48.037</td>\n",
       "      <td>23.6720</td>\n",
       "      <td>-16.6120</td>\n",
       "      <td>26.502</td>\n",
       "    </tr>\n",
       "    <tr>\n",
       "      <th>4</th>\n",
       "      <td>-9.7808</td>\n",
       "      <td>0.83407</td>\n",
       "      <td>-23.7150</td>\n",
       "      <td>-5.2596</td>\n",
       "      <td>-19.04100</td>\n",
       "      <td>-8.0778</td>\n",
       "      <td>12.6460</td>\n",
       "      <td>-37.7300</td>\n",
       "      <td>-8.8727</td>\n",
       "      <td>18.778</td>\n",
       "      <td>...</td>\n",
       "      <td>0.47902</td>\n",
       "      <td>-25.2330</td>\n",
       "      <td>-33.06700</td>\n",
       "      <td>-23.311</td>\n",
       "      <td>-8.5716</td>\n",
       "      <td>-23.852</td>\n",
       "      <td>-70.533</td>\n",
       "      <td>27.3110</td>\n",
       "      <td>-8.6012</td>\n",
       "      <td>16.731</td>\n",
       "    </tr>\n",
       "  </tbody>\n",
       "</table>\n",
       "<p>5 rows × 933 columns</p>\n",
       "</div>"
      ],
      "text/plain": [
       "       0         1        2        3         4        5        6        7    \\\n",
       "0 -26.5160  26.62300   3.0929 -19.6980  -9.94000  13.3980  31.4680  39.0380   \n",
       "1  15.0100   9.73560  20.7270  14.5580 -14.63900 -48.0150 -13.7400   2.3699   \n",
       "2  -1.0803  14.36800  23.3040  -4.7900  -0.81247  -8.3198  29.9200  -9.7703   \n",
       "3 -21.6400 -19.04700 -27.3580  13.7920 -13.71200 -13.1390   4.0264  -1.5494   \n",
       "4  -9.7808   0.83407 -23.7150  -5.2596 -19.04100  -8.0778  12.6460 -37.7300   \n",
       "\n",
       "       8       9    ...       923      924       925     926      927     928  \\\n",
       "0  -7.9090  30.595  ... -10.58400 -20.8480  -0.41171 -23.511  -5.4647 -34.993   \n",
       "1  19.0750 -14.124  ...  22.24100 -10.2100  -0.78411 -37.818 -22.0660 -31.371   \n",
       "2  13.5050 -17.230  ... -26.06400  10.7070 -20.45600 -24.053  -9.7981 -49.775   \n",
       "3  20.5230  11.375  ...  12.37900  -8.8534 -21.94300 -23.446 -32.8570 -55.697   \n",
       "4  -8.8727  18.778  ...   0.47902 -25.2330 -33.06700 -23.311  -8.5716 -23.852   \n",
       "\n",
       "      929      930      931     932  \n",
       "0 -45.190   7.9113  -6.2091  19.889  \n",
       "1 -47.510  -5.1689  25.4960 -10.574  \n",
       "2 -40.405  14.2920 -22.0380  37.135  \n",
       "3 -48.037  23.6720 -16.6120  26.502  \n",
       "4 -70.533  27.3110  -8.6012  16.731  \n",
       "\n",
       "[5 rows x 933 columns]"
      ]
     },
     "execution_count": 16,
     "metadata": {},
     "output_type": "execute_result"
    }
   ],
   "source": [
    "print(y_res.shape)\n",
    "y_res.head()"
   ]
  },
  {
   "cell_type": "markdown",
   "metadata": {},
   "source": [
    "# View location.csv"
   ]
  },
  {
   "cell_type": "code",
   "execution_count": 17,
   "metadata": {},
   "outputs": [
    {
     "name": "stdout",
     "output_type": "stream",
     "text": [
      "(933, 4)\n"
     ]
    },
    {
     "data": {
      "text/html": [
       "<div>\n",
       "<style scoped>\n",
       "    .dataframe tbody tr th:only-of-type {\n",
       "        vertical-align: middle;\n",
       "    }\n",
       "\n",
       "    .dataframe tbody tr th {\n",
       "        vertical-align: top;\n",
       "    }\n",
       "\n",
       "    .dataframe thead th {\n",
       "        text-align: right;\n",
       "    }\n",
       "</style>\n",
       "<table border=\"1\" class=\"dataframe\">\n",
       "  <thead>\n",
       "    <tr style=\"text-align: right;\">\n",
       "      <th></th>\n",
       "      <th>x</th>\n",
       "      <th>y</th>\n",
       "      <th>z</th>\n",
       "      <th>depth</th>\n",
       "    </tr>\n",
       "  </thead>\n",
       "  <tbody>\n",
       "    <tr>\n",
       "      <th>0</th>\n",
       "      <td>-58.710</td>\n",
       "      <td>-64.143</td>\n",
       "      <td>-12.913</td>\n",
       "      <td>1.03130</td>\n",
       "    </tr>\n",
       "    <tr>\n",
       "      <th>1</th>\n",
       "      <td>-60.710</td>\n",
       "      <td>-64.135</td>\n",
       "      <td>-12.875</td>\n",
       "      <td>0.94725</td>\n",
       "    </tr>\n",
       "    <tr>\n",
       "      <th>2</th>\n",
       "      <td>-58.686</td>\n",
       "      <td>-62.365</td>\n",
       "      <td>-11.998</td>\n",
       "      <td>1.08950</td>\n",
       "    </tr>\n",
       "    <tr>\n",
       "      <th>3</th>\n",
       "      <td>-54.706</td>\n",
       "      <td>-66.854</td>\n",
       "      <td>-12.124</td>\n",
       "      <td>1.64540</td>\n",
       "    </tr>\n",
       "    <tr>\n",
       "      <th>4</th>\n",
       "      <td>-56.706</td>\n",
       "      <td>-66.845</td>\n",
       "      <td>-12.087</td>\n",
       "      <td>1.12620</td>\n",
       "    </tr>\n",
       "  </tbody>\n",
       "</table>\n",
       "</div>"
      ],
      "text/plain": [
       "        x       y       z    depth\n",
       "0 -58.710 -64.143 -12.913  1.03130\n",
       "1 -60.710 -64.135 -12.875  0.94725\n",
       "2 -58.686 -62.365 -11.998  1.08950\n",
       "3 -54.706 -66.854 -12.124  1.64540\n",
       "4 -56.706 -66.845 -12.087  1.12620"
      ]
     },
     "execution_count": 17,
     "metadata": {},
     "output_type": "execute_result"
    }
   ],
   "source": [
    "print(location.shape)\n",
    "location.head()"
   ]
  },
  {
   "cell_type": "markdown",
   "metadata": {},
   "source": [
    "# Define a function get correlation from any given y_res"
   ]
  },
  {
   "cell_type": "code",
   "execution_count": 18,
   "metadata": {},
   "outputs": [],
   "source": [
    "def get_corr(Y_res):\n",
    "    \n",
    "    #obtaining the correlation between voxels\n",
    "    corr=Y_res.corr(method ='pearson')\n",
    "    corr_tril=np.tril(corr,k=-1)\n",
    "    Corr=corr_tril[np.nonzero(corr_tril)]\n",
    "    Corr=Corr.reshape(-1,1)\n",
    "    Corr=pd.DataFrame(Corr)\n",
    "    return Corr"
   ]
  },
  {
   "cell_type": "markdown",
   "metadata": {},
   "source": [
    "# Define a function get design matrix X from dataframe: location\n",
    "### exp_model: $Corr=\\beta_0+\\beta_1*exp(-dist*\\gamma)+\\beta_2*dep1+\\beta_3*dep2+\\beta4*dep1*dep2$\n",
    "### power_model: $Corr=\\beta_0+\\beta_1*eta^{dist}+\\beta_2*dep1+\\beta_3*dep2+\\beta4*dep1*dep2$"
   ]
  },
  {
   "cell_type": "code",
   "execution_count": 19,
   "metadata": {},
   "outputs": [],
   "source": [
    "def get_design_matrix(Location,gamma=0.2,eta=0.8):\n",
    "\n",
    "    #Obtaining the distance between voxels\n",
    "    dist_matrix=sp.distance_matrix(Location.iloc[:,0:2],Location.iloc[:,0:2])\n",
    "    dist_tril=np.tril(dist_matrix,k=-1)\n",
    "    rowid,colid=np.nonzero(dist_tril)\n",
    "    dist=dist_tril[rowid,colid]\n",
    "    dist=dist.reshape(-1,1)\n",
    "    \n",
    "    exp_dist=np.exp(-dist*gamma)\n",
    "    power_dist=[eta**k for k in dist]\n",
    "\n",
    "    #Obtaining the depth from the 1st voxel\n",
    "    dep1=Location.depth[rowid]\n",
    "    dep1=dep1.values\n",
    "    dep1=dep1.reshape(-1,1)\n",
    "\n",
    "    #obtaining depth from the 2ed voxel\n",
    "    dep2=Location.depth[colid]\n",
    "    dep2=dep2.values\n",
    "    dep2=dep2.reshape(-1,1)\n",
    "\n",
    "    dep1_2=dep1*dep2\n",
    "\n",
    "    #Creat the design matrix\n",
    "    X_exp=np.concatenate((exp_dist,dep1,dep2,dep1_2),axis=1)\n",
    "    names_exp=['exp_dist','dep1','dep2','dep12']\n",
    "    X_exp=pd.DataFrame(X_exp,columns=names_exp)\n",
    "    \n",
    "    X_power=np.concatenate((power_dist,dep1,dep2,dep1_2),axis=1)\n",
    "    names_power=['power_dist','dep1','dep2','dep12']\n",
    "    X_power=pd.DataFrame(X_power,columns=names_power)\n",
    "    \n",
    "    #make design matrices as a dictionary\n",
    "    design_dict={\"exp\": X_exp,\n",
    "                \"power\": X_power}\n",
    "    \n",
    "    #return a dictionary with model names and corresponding design matrix X\n",
    "    return design_dict"
   ]
  },
  {
   "cell_type": "markdown",
   "metadata": {},
   "source": [
    "## Function model_evaluation\n",
    "### taking input: noise matrix, model (design matrix X), evaluation method , num of runs; \n",
    "### returning: the $R^2$ for each of the model,  lower bound  and upper bound of noise ceiling"
   ]
  },
  {
   "cell_type": "code",
   "execution_count": 20,
   "metadata": {},
   "outputs": [],
   "source": [
    "def model_evaluation(Y_res, design_matrix=None, evaluation_method=\"R_sqr\",num_run=8):\n",
    "    #design_matrix: a dictionary of a list of design matrices (with name as index name)\n",
    "\n",
    "    #split Y_res into n equal pieces according to the number of runs (n)\n",
    "    \n",
    "    r_sqr_low=np.zeros(num_run)\n",
    "    r_sqr_up=np.zeros(num_run)\n",
    "    kf = KFold(n_splits=8)\n",
    "    i=0\n",
    "    for train_index, test_index in kf.split(Y_res):\n",
    "        \n",
    "        Corr_train=get_corr(Y_res.loc[train_index])\n",
    "        Corr_test=get_corr(Y_res.loc[test_index])\n",
    "        Corr_allrun=get_corr(Y_res)\n",
    "        \n",
    "        ESS_lowbound=np.sum((Corr_train-Corr_test)**2)\n",
    "        ESS_upbound=np.sum((Corr_allrun-Corr_test)**2)\n",
    "        mu=np.mean(Corr_test)\n",
    "        TSS=np.sum((Corr_test-mu)**2)\n",
    "        \n",
    "        if evaluation_method==\"R_sqr\":\n",
    "            \n",
    "            r_sqr_low[i]=1-ESS_lowbound/TSS\n",
    "            r_sqr_up[i]=1-ESS_upbound/TSS\n",
    "               \n",
    "    R_sqr_lowbound=np.mean(r_sqr_low)\n",
    "    R_sqr_upbound=np.mean(r_sqr_up)\n",
    "    noise_ceilling_bounds=[R_sqr_lowbound,R_sqr_upbound]    \n",
    "\n",
    "    r_sqr_model={}\n",
    "    if design_matrix!=None:       \n",
    "      \n",
    "        for model_key in design_matrix:\n",
    "            linmodel = LinearRegression().fit(design_matrix[model_key], Corr_allrun)\n",
    "            r_sqr_model[model_key]=linmodel.score(design_matrix[model_key], Corr_allrun)\n",
    "            \n",
    "    return [r_sqr_model,noise_ceilling_bounds]"
   ]
  },
  {
   "cell_type": "markdown",
   "metadata": {},
   "source": [
    "### Test function"
   ]
  },
  {
   "cell_type": "code",
   "execution_count": 21,
   "metadata": {},
   "outputs": [
    {
     "data": {
      "text/plain": [
       "[{'exp': 0.13405406245374096, 'power': 0.13426607148801306},\n",
       " [0.010724094587985039, 0.033800725585128075]]"
      ]
     },
     "execution_count": 21,
     "metadata": {},
     "output_type": "execute_result"
    }
   ],
   "source": [
    "model_dict=get_design_matrix(location)\n",
    "results_model_evaluat=model_evaluation(y_res, model_dict)\n",
    "results_model_evaluat"
   ]
  },
  {
   "cell_type": "markdown",
   "metadata": {},
   "source": [
    "## Creating a graph showing the result from function: model_evaluation()"
   ]
  },
  {
   "cell_type": "code",
   "execution_count": 22,
   "metadata": {},
   "outputs": [],
   "source": [
    "def barplot_noisebounds(result_model_evaluation, plot_type=\"bar\"):\n",
    "    results_dist=result_model_evaluation[0]\n",
    "    model_name=[key for key in results_dist]\n",
    "    r_sqr=[results_dist[key] for key in results_dist]\n",
    "    \n",
    "    lowbound, upbound=result_model_evaluation[1]\n",
    "    \n",
    "    if plot_type==\"bar\":\n",
    "        plt.figure(figsize=(10,6))\n",
    "        ax=sns.barplot(model_name,r_sqr)\n",
    "        #change the bar width \n",
    "        widthbars=[0.3,0.3]\n",
    "        for bar ,newwidth in zip(ax.patches, widthbars):\n",
    "            x=bar.get_x()\n",
    "            width=bar.get_width()\n",
    "            center=x+width/2\n",
    "            bar.set_x(center-newwidth/2.)\n",
    "            bar.set_width(newwidth)\n",
    "        #ax.set(ylim=(0, 0.2))\n",
    "        ax.axhline(lowbound, ls='--',color=\"gray\")\n",
    "        ax.axhline(upbound, ls='--',color=\"gray\")"
   ]
  },
  {
   "cell_type": "code",
   "execution_count": 23,
   "metadata": {
    "scrolled": true
   },
   "outputs": [
    {
     "data": {
      "image/png": "[encoded data removed]",
      "text/plain": [
       "<Figure size 720x432 with 1 Axes>"
      ]
     },
     "metadata": {
      "needs_background": "light"
     },
     "output_type": "display_data"
    }
   ],
   "source": [
    "barplot_noisebounds(results_model_evaluat)"
   ]
  }
 ],
 "metadata": {
  "kernelspec": {
   "display_name": "Python 3",
   "language": "python",
   "name": "python3"
  },
  "language_info": {
   "codemirror_mode": {
    "name": "ipython",
    "version": 3
   },
   "file_extension": ".py",
   "mimetype": "text/x-python",
   "name": "python",
   "nbconvert_exporter": "python",
   "pygments_lexer": "ipython3",
   "version": "3.7.3"
  },
  "widgets": {
   "application/vnd.jupyter.widget-state+json": {
    "state": {},
    "version_major": 2,
    "version_minor": 0
   }
  }
 },
 "nbformat": 4,
 "nbformat_minor": 2
}
