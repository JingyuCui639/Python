{
 "cells": [
  {
   "cell_type": "markdown",
   "metadata": {},
   "source": [
    "# Noise ceiling function"
   ]
  },
  {
   "cell_type": "code",
   "execution_count": 1,
   "metadata": {},
   "outputs": [],
   "source": [
    "import pandas as pd\n",
    "import numpy as np\n",
    "import matplotlib.pyplot as plt\n",
    "import seaborn as sns\n",
    "from sklearn.model_selection import train_test_split, cross_val_score, KFold\n",
    "from sklearn.linear_model import LinearRegression\n",
    "from sklearn.pipeline import Pipeline\n",
    "from sklearn.preprocessing import StandardScaler, PolynomialFeatures\n",
    "from sklearn.metrics import mean_squared_error, mean_absolute_error, make_scorer\n",
    "import scipy.spatial as sp\n",
    "import scipy.optimize as so\n",
    "import random\n",
    "\n",
    "\n",
    "#%matplotlib inline"
   ]
  },
  {
   "cell_type": "markdown",
   "metadata": {},
   "source": [
    "# Import datasets"
   ]
  },
  {
   "cell_type": "code",
   "execution_count": 2,
   "metadata": {},
   "outputs": [],
   "source": [
    "y_res11 = pd.read_csv('y_res11.csv', header=None)\n",
    "y_res12 = pd.read_csv('y_res12.csv', header=None)\n",
    "y_res13 = pd.read_csv('y_res13.csv', header=None)\n",
    "y_res21 = pd.read_csv('y_res21.csv', header=None)\n",
    "y_res22 = pd.read_csv('y_res22.csv', header=None)\n",
    "y_res23 = pd.read_csv('y_res23.csv', header=None)\n",
    "y_res31 = pd.read_csv('y_res31.csv', header=None)\n",
    "y_res32 = pd.read_csv('y_res32.csv', header=None)\n",
    "y_res33 = pd.read_csv('y_res33.csv', header=None)\n",
    "\n",
    "col_names=['x', 'y', 'z', 'depth']\n",
    "location11=pd.read_csv('location11.csv',names=col_names)\n",
    "location12=pd.read_csv('location12.csv',names=col_names)\n",
    "location13=pd.read_csv('location13.csv',names=col_names)\n",
    "location21=pd.read_csv('location21.csv',names=col_names)\n",
    "location22=pd.read_csv('location22.csv',names=col_names)\n",
    "location23=pd.read_csv('location23.csv',names=col_names)\n",
    "location31=pd.read_csv('location31.csv',names=col_names)\n",
    "location32=pd.read_csv('location32.csv',names=col_names)\n",
    "location33=pd.read_csv('location33.csv',names=col_names)"
   ]
  },
  {
   "cell_type": "markdown",
   "metadata": {},
   "source": [
    "# View y_res.csv"
   ]
  },
  {
   "cell_type": "code",
   "execution_count": 4,
   "metadata": {},
   "outputs": [
    {
     "name": "stdout",
     "output_type": "stream",
     "text": [
      "(3488, 847)\n"
     ]
    },
    {
     "data": {
      "text/html": [
       "<div>\n",
       "<style scoped>\n",
       "    .dataframe tbody tr th:only-of-type {\n",
       "        vertical-align: middle;\n",
       "    }\n",
       "\n",
       "    .dataframe tbody tr th {\n",
       "        vertical-align: top;\n",
       "    }\n",
       "\n",
       "    .dataframe thead th {\n",
       "        text-align: right;\n",
       "    }\n",
       "</style>\n",
       "<table border=\"1\" class=\"dataframe\">\n",
       "  <thead>\n",
       "    <tr style=\"text-align: right;\">\n",
       "      <th></th>\n",
       "      <th>0</th>\n",
       "      <th>1</th>\n",
       "      <th>2</th>\n",
       "      <th>3</th>\n",
       "      <th>4</th>\n",
       "      <th>5</th>\n",
       "      <th>6</th>\n",
       "      <th>7</th>\n",
       "      <th>8</th>\n",
       "      <th>9</th>\n",
       "      <th>...</th>\n",
       "      <th>837</th>\n",
       "      <th>838</th>\n",
       "      <th>839</th>\n",
       "      <th>840</th>\n",
       "      <th>841</th>\n",
       "      <th>842</th>\n",
       "      <th>843</th>\n",
       "      <th>844</th>\n",
       "      <th>845</th>\n",
       "      <th>846</th>\n",
       "    </tr>\n",
       "  </thead>\n",
       "  <tbody>\n",
       "    <tr>\n",
       "      <th>0</th>\n",
       "      <td>-1.4197</td>\n",
       "      <td>-8.5145</td>\n",
       "      <td>22.4740</td>\n",
       "      <td>7.5816</td>\n",
       "      <td>16.9690</td>\n",
       "      <td>-1.7700</td>\n",
       "      <td>5.7982</td>\n",
       "      <td>19.5650</td>\n",
       "      <td>12.5840</td>\n",
       "      <td>-9.8764</td>\n",
       "      <td>...</td>\n",
       "      <td>13.8270</td>\n",
       "      <td>5.1841</td>\n",
       "      <td>13.5110</td>\n",
       "      <td>-6.9979</td>\n",
       "      <td>0.94306</td>\n",
       "      <td>-11.49700</td>\n",
       "      <td>-11.0320</td>\n",
       "      <td>-1.9434</td>\n",
       "      <td>-9.6741</td>\n",
       "      <td>-2.1443</td>\n",
       "    </tr>\n",
       "    <tr>\n",
       "      <th>1</th>\n",
       "      <td>-16.9590</td>\n",
       "      <td>-31.4790</td>\n",
       "      <td>-23.9120</td>\n",
       "      <td>-9.6211</td>\n",
       "      <td>12.4460</td>\n",
       "      <td>-14.1790</td>\n",
       "      <td>-11.7510</td>\n",
       "      <td>16.4100</td>\n",
       "      <td>2.1783</td>\n",
       "      <td>-10.5200</td>\n",
       "      <td>...</td>\n",
       "      <td>13.5240</td>\n",
       "      <td>-11.9720</td>\n",
       "      <td>2.6456</td>\n",
       "      <td>43.6860</td>\n",
       "      <td>-6.30200</td>\n",
       "      <td>0.21438</td>\n",
       "      <td>3.5338</td>\n",
       "      <td>3.2956</td>\n",
       "      <td>-25.9160</td>\n",
       "      <td>7.6326</td>\n",
       "    </tr>\n",
       "    <tr>\n",
       "      <th>2</th>\n",
       "      <td>4.0481</td>\n",
       "      <td>2.5619</td>\n",
       "      <td>3.3671</td>\n",
       "      <td>10.7770</td>\n",
       "      <td>13.4050</td>\n",
       "      <td>-9.8239</td>\n",
       "      <td>-18.9150</td>\n",
       "      <td>-25.9100</td>\n",
       "      <td>-25.5560</td>\n",
       "      <td>-21.0850</td>\n",
       "      <td>...</td>\n",
       "      <td>15.6900</td>\n",
       "      <td>12.5320</td>\n",
       "      <td>-14.7590</td>\n",
       "      <td>-14.5530</td>\n",
       "      <td>9.76370</td>\n",
       "      <td>35.03700</td>\n",
       "      <td>-6.3936</td>\n",
       "      <td>3.2477</td>\n",
       "      <td>13.9820</td>\n",
       "      <td>6.6764</td>\n",
       "    </tr>\n",
       "    <tr>\n",
       "      <th>3</th>\n",
       "      <td>-7.3464</td>\n",
       "      <td>11.4970</td>\n",
       "      <td>-21.9240</td>\n",
       "      <td>-13.4260</td>\n",
       "      <td>4.3573</td>\n",
       "      <td>-7.3909</td>\n",
       "      <td>5.5279</td>\n",
       "      <td>16.4740</td>\n",
       "      <td>4.8506</td>\n",
       "      <td>3.0671</td>\n",
       "      <td>...</td>\n",
       "      <td>-5.1095</td>\n",
       "      <td>-8.1099</td>\n",
       "      <td>-14.0290</td>\n",
       "      <td>-47.4240</td>\n",
       "      <td>-9.50470</td>\n",
       "      <td>-2.73380</td>\n",
       "      <td>-12.6530</td>\n",
       "      <td>4.0468</td>\n",
       "      <td>14.4600</td>\n",
       "      <td>-12.6820</td>\n",
       "    </tr>\n",
       "    <tr>\n",
       "      <th>4</th>\n",
       "      <td>18.6390</td>\n",
       "      <td>23.1430</td>\n",
       "      <td>9.7232</td>\n",
       "      <td>9.0204</td>\n",
       "      <td>4.4300</td>\n",
       "      <td>-10.6500</td>\n",
       "      <td>15.3350</td>\n",
       "      <td>2.1113</td>\n",
       "      <td>-13.9750</td>\n",
       "      <td>8.1857</td>\n",
       "      <td>...</td>\n",
       "      <td>8.5187</td>\n",
       "      <td>7.8150</td>\n",
       "      <td>-34.6730</td>\n",
       "      <td>-11.5700</td>\n",
       "      <td>-9.88470</td>\n",
       "      <td>21.08700</td>\n",
       "      <td>-10.9880</td>\n",
       "      <td>-25.9270</td>\n",
       "      <td>8.4714</td>\n",
       "      <td>-11.4350</td>\n",
       "    </tr>\n",
       "  </tbody>\n",
       "</table>\n",
       "<p>5 rows × 847 columns</p>\n",
       "</div>"
      ],
      "text/plain": [
       "       0        1        2        3        4        5        6        7    \\\n",
       "0  -1.4197  -8.5145  22.4740   7.5816  16.9690  -1.7700   5.7982  19.5650   \n",
       "1 -16.9590 -31.4790 -23.9120  -9.6211  12.4460 -14.1790 -11.7510  16.4100   \n",
       "2   4.0481   2.5619   3.3671  10.7770  13.4050  -9.8239 -18.9150 -25.9100   \n",
       "3  -7.3464  11.4970 -21.9240 -13.4260   4.3573  -7.3909   5.5279  16.4740   \n",
       "4  18.6390  23.1430   9.7232   9.0204   4.4300 -10.6500  15.3350   2.1113   \n",
       "\n",
       "       8        9    ...      837      838      839      840      841  \\\n",
       "0  12.5840  -9.8764  ...  13.8270   5.1841  13.5110  -6.9979  0.94306   \n",
       "1   2.1783 -10.5200  ...  13.5240 -11.9720   2.6456  43.6860 -6.30200   \n",
       "2 -25.5560 -21.0850  ...  15.6900  12.5320 -14.7590 -14.5530  9.76370   \n",
       "3   4.8506   3.0671  ...  -5.1095  -8.1099 -14.0290 -47.4240 -9.50470   \n",
       "4 -13.9750   8.1857  ...   8.5187   7.8150 -34.6730 -11.5700 -9.88470   \n",
       "\n",
       "        842      843      844      845      846  \n",
       "0 -11.49700 -11.0320  -1.9434  -9.6741  -2.1443  \n",
       "1   0.21438   3.5338   3.2956 -25.9160   7.6326  \n",
       "2  35.03700  -6.3936   3.2477  13.9820   6.6764  \n",
       "3  -2.73380 -12.6530   4.0468  14.4600 -12.6820  \n",
       "4  21.08700 -10.9880 -25.9270   8.4714 -11.4350  \n",
       "\n",
       "[5 rows x 847 columns]"
      ]
     },
     "execution_count": 4,
     "metadata": {},
     "output_type": "execute_result"
    }
   ],
   "source": [
    "print(y_res31.shape)\n",
    "y_res31.head()"
   ]
  },
  {
   "cell_type": "markdown",
   "metadata": {},
   "source": [
    "# View location.csv"
   ]
  },
  {
   "cell_type": "code",
   "execution_count": 5,
   "metadata": {},
   "outputs": [
    {
     "name": "stdout",
     "output_type": "stream",
     "text": [
      "(847, 4)\n"
     ]
    },
    {
     "data": {
      "text/html": [
       "<div>\n",
       "<style scoped>\n",
       "    .dataframe tbody tr th:only-of-type {\n",
       "        vertical-align: middle;\n",
       "    }\n",
       "\n",
       "    .dataframe tbody tr th {\n",
       "        vertical-align: top;\n",
       "    }\n",
       "\n",
       "    .dataframe thead th {\n",
       "        text-align: right;\n",
       "    }\n",
       "</style>\n",
       "<table border=\"1\" class=\"dataframe\">\n",
       "  <thead>\n",
       "    <tr style=\"text-align: right;\">\n",
       "      <th></th>\n",
       "      <th>x</th>\n",
       "      <th>y</th>\n",
       "      <th>z</th>\n",
       "      <th>depth</th>\n",
       "    </tr>\n",
       "  </thead>\n",
       "  <tbody>\n",
       "    <tr>\n",
       "      <th>0</th>\n",
       "      <td>-56.539</td>\n",
       "      <td>-68.870</td>\n",
       "      <td>-13.999</td>\n",
       "      <td>1.175300</td>\n",
       "    </tr>\n",
       "    <tr>\n",
       "      <th>1</th>\n",
       "      <td>-58.539</td>\n",
       "      <td>-68.844</td>\n",
       "      <td>-14.025</td>\n",
       "      <td>0.898590</td>\n",
       "    </tr>\n",
       "    <tr>\n",
       "      <th>2</th>\n",
       "      <td>-56.526</td>\n",
       "      <td>-67.045</td>\n",
       "      <td>-13.183</td>\n",
       "      <td>0.820110</td>\n",
       "    </tr>\n",
       "    <tr>\n",
       "      <th>3</th>\n",
       "      <td>-58.526</td>\n",
       "      <td>-67.019</td>\n",
       "      <td>-13.208</td>\n",
       "      <td>0.036471</td>\n",
       "    </tr>\n",
       "    <tr>\n",
       "      <th>4</th>\n",
       "      <td>-56.513</td>\n",
       "      <td>-65.219</td>\n",
       "      <td>-12.366</td>\n",
       "      <td>1.101400</td>\n",
       "    </tr>\n",
       "  </tbody>\n",
       "</table>\n",
       "</div>"
      ],
      "text/plain": [
       "        x       y       z     depth\n",
       "0 -56.539 -68.870 -13.999  1.175300\n",
       "1 -58.539 -68.844 -14.025  0.898590\n",
       "2 -56.526 -67.045 -13.183  0.820110\n",
       "3 -58.526 -67.019 -13.208  0.036471\n",
       "4 -56.513 -65.219 -12.366  1.101400"
      ]
     },
     "execution_count": 5,
     "metadata": {},
     "output_type": "execute_result"
    }
   ],
   "source": [
    "print(location31.shape)\n",
    "location31.head()"
   ]
  },
  {
   "cell_type": "markdown",
   "metadata": {},
   "source": [
    "# Define a function get correlation from any given y_res"
   ]
  },
  {
   "cell_type": "code",
   "execution_count": 3,
   "metadata": {},
   "outputs": [],
   "source": [
    "def get_corr(Y_res):\n",
    "    \n",
    "    #obtaining the correlation between voxels\n",
    "    corr=Y_res.corr(method ='pearson')\n",
    "    corr_tril=np.tril(corr,k=-1)\n",
    "    Corr=corr_tril[np.nonzero(corr_tril)]\n",
    "    Corr=Corr.reshape(-1,1)\n",
    "    #Corr=pd.DataFrame(Corr)\n",
    "    return Corr"
   ]
  },
  {
   "cell_type": "markdown",
   "metadata": {},
   "source": [
    "# Define a function get design matrix X from dataframe: location\n",
    "### exp_model: $Corr=\\beta_0+\\beta_1*exp^{(-dist*\\gamma)}+\\beta_2*dep1+\\beta_3*dep2+\\beta4*dep1*dep2$\n",
    "### power_model: $Corr=\\beta_0+\\beta_1*\\eta^{dist}+\\beta_2*dep1+\\beta_3*dep2+\\beta4*dep1*dep2$"
   ]
  },
  {
   "cell_type": "code",
   "execution_count": 3,
   "metadata": {},
   "outputs": [],
   "source": [
    "def get_design_matrix(Location,model_type=\"both\",gamma=0.2,eta=0.8):\n",
    "    #Here model_type= \"both\"/\"with interaction\"/\"without interaction\"\n",
    "    #If model_type= \"both\", then construct design matrices both with interaction and without interaction\n",
    "    #If model_type=\"with interaction\", then only construct design matrix with interaction\n",
    "    #If model_type=\"without interaction\", then only construct design matrix without interaction\n",
    "\n",
    "    #Obtaining the distance between voxels\n",
    "    dist_matrix=sp.distance_matrix(Location.iloc[:,0:2],Location.iloc[:,0:2])\n",
    "    dist_tril=np.tril(dist_matrix,k=-1)\n",
    "    rowid,colid=np.nonzero(dist_tril)\n",
    "    dist=dist_tril[rowid,colid]\n",
    "    dist=dist.reshape(-1,1)\n",
    "    \n",
    "    exp_dist=np.exp(-dist*gamma)\n",
    "    power_dist=[eta**k for k in dist]\n",
    "\n",
    "    #Obtaining the depth from the 1st voxel\n",
    "    dep1=Location.depth[rowid]\n",
    "    dep1=dep1.values\n",
    "    dep1=dep1.reshape(-1,1)\n",
    "\n",
    "    #obtaining depth from the 2ed voxel\n",
    "    dep2=Location.depth[colid]\n",
    "    dep2=dep2.values\n",
    "    dep2=dep2.reshape(-1,1)\n",
    "\n",
    "    dep1_2=dep1*dep2\n",
    "    ones=np.ones(len(dist)).reshape(-1,1)\n",
    "\n",
    "    #Creat the design matrix\n",
    "    if model_type==\"with interaction\":\n",
    "        #construct design matrix with interaction\n",
    "        X_exp_inter=np.concatenate((ones,exp_dist,dep1,dep2,dep1_2),axis=1)\n",
    "        names_exp_inter=['intercept','exp_dist','dep1','dep2','dep12']\n",
    "        #X_exp_inter=pd.DataFrame(X_exp_inter,columns=names_exp_inter)\n",
    "    \n",
    "        X_power_inter=np.concatenate((ones,power_dist,dep1,dep2,dep1_2),axis=1)\n",
    "        names_power_inter=['intercept','power_dist','dep1','dep2','dep12']\n",
    "        #X_power_inter=pd.DataFrame(X_power_inter,columns=names_power_inter)\n",
    "    \n",
    "        #make design matrices as a dictionary\n",
    "        design_dict={\"exp with interaction\": X_exp_inter,\n",
    "                     \"power with interaction\": X_power_inter}\n",
    "        \n",
    "    elif model_type==\"without interaction\":\n",
    "        \n",
    "        #construct design matrix without interaction\n",
    "        X_exp_nointer=np.concatenate((ones,exp_dist,dep1,dep2),axis=1)\n",
    "        names_exp_nointer=['intercept','exp_dist','dep1','dep2']\n",
    "        #X_exp_nointer=pd.DataFrame(X_exp_nointer,columns=names_exp_nointer)\n",
    "    \n",
    "        X_power_nointer=np.concatenate((ones,power_dist,dep1,dep2),axis=1)\n",
    "        names_power_nointer=['intercept','power_dist','dep1','dep2']\n",
    "        #X_power_nointer=pd.DataFrame(X_power_nointer,columns=names_power_nointer)\n",
    "    \n",
    "        #make design matrices as a dictionary\n",
    "        design_dict={\"exp without interaction\": X_exp_nointer,\n",
    "                     \"power without interaction\": X_power_nointer}\n",
    "        \n",
    "    elif model_type==\"both\":\n",
    "        \n",
    "        #construct design matrix with interaction\n",
    "        X_exp_inter=np.concatenate((ones,exp_dist,dep1,dep2,dep1_2),axis=1)\n",
    "        names_exp_inter=['intercept','exp_dist','dep1','dep2','dep12']\n",
    "        #X_exp_inter=pd.DataFrame(X_exp_inter,columns=names_exp_inter)\n",
    "    \n",
    "        X_power_inter=np.concatenate((ones,power_dist,dep1,dep2,dep1_2),axis=1)\n",
    "        names_power_inter=['intercept','power_dist','dep1','dep2','dep12']\n",
    "        #X_power_inter=pd.DataFrame(X_power_inter,columns=names_power_inter)\n",
    "        \n",
    "        #construct design matrix without interaction\n",
    "        X_exp_nointer=np.concatenate((ones,exp_dist,dep1,dep2),axis=1)\n",
    "        names_exp_nointer=['intercept','exp_dist','dep1','dep2']\n",
    "        #X_exp_nointer=pd.DataFrame(X_exp_nointer,columns=names_exp_nointer)\n",
    "    \n",
    "        X_power_nointer=np.concatenate((ones,power_dist,dep1,dep2),axis=1)\n",
    "        names_power_nointer=['intercept','power_dist','dep1','dep2']\n",
    "        #X_power_nointer=pd.DataFrame(X_power_nointer,columns=names_power_nointer)\n",
    "        \n",
    "        #make design matrices as a dictionary\n",
    "        design_dict={\"exp without interaction\": X_exp_nointer,\n",
    "                     \"exp with interaction\": X_exp_inter,\n",
    "                     \"power without interaction\": X_power_nointer,\n",
    "                     \"power with interaction\": X_power_inter}\n",
    "        \n",
    "    \n",
    "    #return a dictionary with model names and corresponding design matrix X\n",
    "    return design_dict"
   ]
  },
  {
   "cell_type": "markdown",
   "metadata": {},
   "source": [
    "## Function model_evaluation\n",
    "### taking input: noise matrix, model (design matrix X), evaluation method , num of runs; \n",
    "### returning: the $R^2$ for each of the model,  lower bound  and upper bound of noise ceiling"
   ]
  },
  {
   "cell_type": "code",
   "execution_count": 9,
   "metadata": {},
   "outputs": [],
   "source": [
    "aa=NoiseCeiling()\n",
    "aa.fit(X,get_corr(y_res11))"
   ]
  },
  {
   "cell_type": "code",
   "execution_count": 10,
   "metadata": {
    "scrolled": true
   },
   "outputs": [
    {
     "name": "stdout",
     "output_type": "stream",
     "text": [
      "parameter: \n",
      "None\n",
      "fitted response for training set: \n",
      " [[ 0.27502344]\n",
      " [ 0.37587836]\n",
      " [ 0.14378337]\n",
      " ...\n",
      " [-0.00674123]\n",
      " [ 0.16300291]\n",
      " [ 0.40075085]] \n",
      "r_sqr of the fit for training set: None\n"
     ]
    }
   ],
   "source": [
    "aa.summary()"
   ]
  },
  {
   "cell_type": "code",
   "execution_count": 4,
   "metadata": {},
   "outputs": [
    {
     "name": "stdout",
     "output_type": "stream",
     "text": [
      "NoiseCorrelationModel has been imported!\n"
     ]
    }
   ],
   "source": [
    "from NoiseCorrelationModel import NoiseCeiling, LinearModel"
   ]
  },
  {
   "cell_type": "code",
   "execution_count": 5,
   "metadata": {},
   "outputs": [
    {
     "name": "stdout",
     "output_type": "stream",
     "text": [
      "NoiseCorrelationModel has been imported!\n"
     ]
    }
   ],
   "source": [
    "#Same as \"import NoiseCorrelationModel\"\n",
    "%run -n NoiseCorrelationModel \n"
   ]
  },
  {
   "cell_type": "code",
   "execution_count": 6,
   "metadata": {},
   "outputs": [
    {
     "name": "stdout",
     "output_type": "stream",
     "text": [
      "NoiseCorrelationModel has been run directly!\n"
     ]
    }
   ],
   "source": [
    "#Running the file and calling code protected by an if __name__ == \"__main__\" clause\n",
    "%run -i NoiseCorrelationModel "
   ]
  },
  {
   "cell_type": "code",
   "execution_count": 7,
   "metadata": {},
   "outputs": [],
   "source": [
    "def model_evaluation2(Y_res, design_matrix={}, evaluation_method=\"R_sqr\",num_run=8):\n",
    "    #design_matrix: a dictionary of a list of design matrices (with name as index name)\n",
    "    \n",
    "    #add noise ceiling model into the model dictionary\n",
    "    design_matrix[\"noise ceiling\"]=None\n",
    "    \n",
    "    r_sqr_low_result=np.zeros((len(design_matrix),num_run))\n",
    "    r_sqr_up_result=np.zeros((len(design_matrix),num_run))\n",
    "    #split Y_res into n equal pieces according to the number of runs (n)\n",
    "    kf = KFold(n_splits=num_run)\n",
    "    i=0\n",
    "    for train_index, test_index in kf.split(Y_res):\n",
    "\n",
    "        #Calculating correlation matrix for train, test and all data\n",
    "        Corr_train=get_corr(Y_res.loc[train_index])\n",
    "        Corr_test=get_corr(Y_res.loc[test_index])\n",
    "        Corr_allrun=get_corr(Y_res)\n",
    "        \n",
    "        j=0\n",
    "        for model_key, model_design_matr in design_matrix.items():\n",
    "          \n",
    "            if model_key==\"noise ceiling\":               \n",
    "                lowModel=NoiseCeiling()                              \n",
    "                upModel=NoiseCeiling()\n",
    "                \n",
    "            else:                           \n",
    "                lowModel = LinearModel()               \n",
    "                upModel = LinearModel()\n",
    "                \n",
    "            lowModel.fit(model_design_matr, Corr_train)\n",
    "            upModel.fit(model_design_matr, Corr_allrun)\n",
    "                                         \n",
    "            #Calculating R^2 for the model\n",
    "            if evaluation_method==\"R_sqr\":\n",
    "                #Store lower and upper bound of R^2 for each model into a numpy array\n",
    "                r_sqr_low_result[j,i]=lowModel.get_r_sqr_againstIndependence(model_design_matr,Corr_test)\n",
    "                r_sqr_up_result[j,i]=upModel.get_r_sqr_againstIndependence(model_design_matr,Corr_test)\n",
    "            \n",
    "            j+=1\n",
    "            \n",
    "        i+=1\n",
    "            \n",
    "    #taking average among 8 fits (taking average along the row)     \n",
    "    R_sqr_lowbound=np.mean(r_sqr_low_result, axis = 1)\n",
    "    R_sqr_upbound=np.mean(r_sqr_up_result, axis=1)\n",
    "    \n",
    "    #build up a dictionary to store the result:\n",
    "    result={}\n",
    "    k=0\n",
    "    for model_key in design_matrix:      \n",
    "        result[model_key]=[R_sqr_lowbound[k],R_sqr_upbound[k]]\n",
    "        k+=1\n",
    "    \n",
    "    #Reture the result: a dictionary that contains the lower bound and upper bound for each model\n",
    "    return result"
   ]
  },
  {
   "cell_type": "code",
   "execution_count": 8,
   "metadata": {},
   "outputs": [],
   "source": [
    "def model_evaluation(Y_res, design_matrix={}, evaluation_method=\"R_sqr\",num_run=8):\n",
    "    #design_matrix: a dictionary of a list of design matrices (with name as index name)\n",
    "    \n",
    "    #add noise ceiling model into the model dictionary\n",
    "    design_matrix[\"noise ceiling\"]=None\n",
    "    \n",
    "    r_sqr_low_result=np.zeros((len(design_matrix),num_run))\n",
    "    r_sqr_up_result=np.zeros((len(design_matrix),num_run))\n",
    "    #split Y_res into n equal pieces according to the number of runs (n)\n",
    "    kf = KFold(n_splits=num_run)\n",
    "    i=0\n",
    "    for train_index, test_index in kf.split(Y_res):\n",
    "\n",
    "        #Calculating correlation matrix for train, test and all data\n",
    "        Corr_train=get_corr(Y_res.loc[train_index])\n",
    "        Corr_test=get_corr(Y_res.loc[test_index])\n",
    "        Corr_allrun=get_corr(Y_res)\n",
    "        \n",
    "        j=0\n",
    "        for model_key, model_design_matr in design_matrix.items():\n",
    "          \n",
    "            if model_key==\"noise ceiling\":\n",
    "                \n",
    "                Corr_predict_lowbound=Corr_train\n",
    "                Corr_predict_upbound=Corr_allrun\n",
    "            else:              \n",
    "                #\n",
    "                linmodel_train = LinearRegression().fit(model_design_matr, Corr_train)\n",
    "                Corr_predict_lowbound=linmodel_train.predict(model_design_matr)\n",
    "                \n",
    "                linmodel_all = LinearRegression().fit(model_design_matr, Corr_allrun)\n",
    "                Corr_predict_upbound=linmodel_all.predict(model_design_matr)\n",
    "                                   \n",
    "            ESS_lowbound=np.sum((Corr_test-Corr_predict_lowbound)**2)\n",
    "            ESS_upbound=np.sum((Corr_test-Corr_predict_upbound)**2)\n",
    "            TSS=np.sum((Corr_test)**2)\n",
    "                         \n",
    "            #Calculating R^2 for the model\n",
    "            if evaluation_method==\"R_sqr\":\n",
    "                r_sqr_low=1-ESS_lowbound/TSS\n",
    "                r_sqr_up=1-ESS_upbound/TSS                \n",
    "                       \n",
    "            #Store lower and upper bound of R^2 for each model into a numpy array\n",
    "            r_sqr_low_result[j,i]=r_sqr_low\n",
    "            r_sqr_up_result[j,i]=r_sqr_up\n",
    "            \n",
    "            j+=1\n",
    "            \n",
    "        i+=1\n",
    "            \n",
    "    #taking average among 8 fits (taking average along the row)     \n",
    "    R_sqr_lowbound=np.mean(r_sqr_low_result, axis = 1)\n",
    "    R_sqr_upbound=np.mean(r_sqr_up_result, axis=1)\n",
    "    \n",
    "    #build up a dictionary to store the result:\n",
    "    result={}\n",
    "    k=0\n",
    "    for model_key in design_matrix:      \n",
    "        result[model_key]=[R_sqr_lowbound[k],R_sqr_upbound[k]]\n",
    "        k+=1\n",
    "    \n",
    "    #Reture the result: a dictionary that contains the lower bound and upper bound for each model\n",
    "    return result"
   ]
  },
  {
   "cell_type": "code",
   "execution_count": 5,
   "metadata": {},
   "outputs": [],
   "source": [
    "model_dict=get_design_matrix(location11)\n",
    "X=model_dict[\"exp with interaction\"]\n"
   ]
  },
  {
   "cell_type": "code",
   "execution_count": 19,
   "metadata": {},
   "outputs": [
    {
     "data": {
      "text/plain": [
       "{'exp without interaction': [0.09760114442580003, 0.10070287445147764],\n",
       " 'exp with interaction': [0.10331725143637012, 0.10656827753648317],\n",
       " 'power without interaction': [0.09769877969806812, 0.10079533388755355],\n",
       " 'power with interaction': [0.10341400841356446, 0.10665994712201002],\n",
       " 'noise ceiling': [0.2645672440387965, 0.43976879954419634]}"
      ]
     },
     "execution_count": 19,
     "metadata": {},
     "output_type": "execute_result"
    }
   ],
   "source": [
    "results_model_evaluat=model_evaluation(y_res31, model_dict)\n",
    "results_model_evaluat"
   ]
  },
  {
   "cell_type": "code",
   "execution_count": 124,
   "metadata": {},
   "outputs": [
    {
     "data": {
      "text/plain": [
       "{'exp without interaction': [0.09760114442580381, 0.10070287445147161],\n",
       " 'exp with interaction': [0.10331725143637045, 0.10656827753648426],\n",
       " 'power without interaction': [0.09769877969805868, 0.10079533388754135],\n",
       " 'power with interaction': [0.10341400841356224, 0.10665994712199788],\n",
       " 'noise ceiling': [0.26456724403879367, 0.4397687995441869]}"
      ]
     },
     "execution_count": 124,
     "metadata": {},
     "output_type": "execute_result"
    }
   ],
   "source": [
    "results_model_evaluat2=model_evaluation2(y_res31, model_dict)\n",
    "results_model_evaluat2"
   ]
  },
  {
   "cell_type": "markdown",
   "metadata": {},
   "source": [
    "### Test function"
   ]
  },
  {
   "cell_type": "markdown",
   "metadata": {},
   "source": [
    "## Creating a graph showing the result from function: model_evaluation()"
   ]
  },
  {
   "cell_type": "code",
   "execution_count": 37,
   "metadata": {},
   "outputs": [],
   "source": [
    "def barplot_noisebounds(result_model_evaluation, plot_type=\"bar\"):\n",
    "    \n",
    "    result_model_eval_copy=result_model_evaluation.copy()\n",
    "    #obtain the lower and upper bounds for noise ceiling\n",
    "    noise_lowbound, noise_upbound=result_model_eval_copy.pop(\"noise ceiling\")\n",
    "    \n",
    "    model_name=[key for key in result_model_eval_copy]\n",
    "    r_sqr=[lower_bound[0] for lower_bound in result_model_eval_copy.values()]\n",
    "    \n",
    "    if plot_type==\"bar\":\n",
    "        plt.figure(figsize=(10,7.5))\n",
    "        ax=sns.barplot(model_name,r_sqr)\n",
    "        #change the bar width \n",
    "        widthbars=[0.3,0.3,0.3,0.3]\n",
    "        for bar ,newwidth in zip(ax.patches, widthbars):\n",
    "            x=bar.get_x()\n",
    "            width=bar.get_width()\n",
    "            center=x+width/2\n",
    "            bar.set_x(center-newwidth/2.)\n",
    "            bar.set_width(newwidth)\n",
    "        #ax.set(ylim=(0, 0.2))\n",
    "        ax.axhline(noise_lowbound, ls='--',color=\"gray\")\n",
    "        ax.axhline(noise_upbound, ls='--',color=\"gray\")"
   ]
  },
  {
   "cell_type": "code",
   "execution_count": null,
   "metadata": {},
   "outputs": [],
   "source": []
  },
  {
   "cell_type": "markdown",
   "metadata": {},
   "source": [
    "### Result from subject 1 region1\n",
    "### Number of voxels: 933"
   ]
  },
  {
   "cell_type": "code",
   "execution_count": 38,
   "metadata": {},
   "outputs": [
    {
     "data": {
      "text/plain": [
       "{'exp without interaction': [0.05350626972601526, 0.05420702475906812],\n",
       " 'exp with interaction': [0.061917125189819094, 0.06267792479555069],\n",
       " 'power without interaction': [0.05362116156267764, 0.054319863394680354],\n",
       " 'power with interaction': [0.06203040443232423, 0.06278922092817175],\n",
       " 'noise ceiling': [0.16107911783373707, 0.3605663390102093]}"
      ]
     },
     "execution_count": 38,
     "metadata": {},
     "output_type": "execute_result"
    }
   ],
   "source": [
    "model_dict=get_design_matrix(location11)\n",
    "results_model_evaluat=model_evaluation(y_res11, model_dict)\n",
    "results_model_evaluat"
   ]
  },
  {
   "cell_type": "code",
   "execution_count": 67,
   "metadata": {
    "scrolled": true
   },
   "outputs": [
    {
     "data": {
      "image/png": "[encoded data removed]",
      "text/plain": [
       "<Figure size 720x540 with 1 Axes>"
      ]
     },
     "metadata": {
      "needs_background": "light"
     },
     "output_type": "display_data"
    }
   ],
   "source": [
    "barplot_noisebounds(results_model_evaluat)"
   ]
  },
  {
   "cell_type": "markdown",
   "metadata": {},
   "source": [
    "### Result from subject 1 region 2\n",
    "### Number of voxels: 441"
   ]
  },
  {
   "cell_type": "code",
   "execution_count": 68,
   "metadata": {},
   "outputs": [
    {
     "data": {
      "text/plain": [
       "{'exp without interaction': [0.21860361729757405, 0.22033130161246356],\n",
       " 'exp with interaction': [0.23420279154933382, 0.23618363692975486],\n",
       " 'power without interaction': [0.2188225654439243, 0.22055080366710636],\n",
       " 'power with interaction': [0.23435086064542332, 0.23633210399347665],\n",
       " 'noise ceiling': [0.4076327587423478, 0.548093556692324]}"
      ]
     },
     "execution_count": 68,
     "metadata": {},
     "output_type": "execute_result"
    }
   ],
   "source": [
    "model_dict12=get_design_matrix(location12)\n",
    "results_model_evaluat12=model_evaluation(y_res12, model_dict12)\n",
    "results_model_evaluat12"
   ]
  },
  {
   "cell_type": "code",
   "execution_count": 69,
   "metadata": {},
   "outputs": [
    {
     "data": {
      "image/png": "[encoded data removed]",
      "text/plain": [
       "<Figure size 720x540 with 1 Axes>"
      ]
     },
     "metadata": {
      "needs_background": "light"
     },
     "output_type": "display_data"
    }
   ],
   "source": [
    "barplot_noisebounds(results_model_evaluat12)"
   ]
  },
  {
   "cell_type": "code",
   "execution_count": null,
   "metadata": {},
   "outputs": [],
   "source": []
  },
  {
   "cell_type": "markdown",
   "metadata": {},
   "source": [
    "### Result from subject 1 region 3\n",
    "### Number of voxels: 1284"
   ]
  },
  {
   "cell_type": "code",
   "execution_count": 70,
   "metadata": {},
   "outputs": [
    {
     "data": {
      "text/plain": [
       "{'exp without interaction': [0.09046037858606464, 0.09264374684788486],\n",
       " 'exp with interaction': [0.09460793508827334, 0.09683836816885336],\n",
       " 'power without interaction': [0.09060907342721927, 0.09278976747353918],\n",
       " 'power with interaction': [0.09474343155480015, 0.09697113993577813],\n",
       " 'noise ceiling': [0.16753058465308407, 0.36808647837898195]}"
      ]
     },
     "execution_count": 70,
     "metadata": {},
     "output_type": "execute_result"
    }
   ],
   "source": [
    "model_dict13=get_design_matrix(location13)\n",
    "results_model_evaluat13=model_evaluation(y_res13, model_dict13)\n",
    "results_model_evaluat13"
   ]
  },
  {
   "cell_type": "code",
   "execution_count": 71,
   "metadata": {},
   "outputs": [
    {
     "data": {
      "image/png": "[encoded data removed]",
      "text/plain": [
       "<Figure size 720x540 with 1 Axes>"
      ]
     },
     "metadata": {
      "needs_background": "light"
     },
     "output_type": "display_data"
    }
   ],
   "source": [
    "barplot_noisebounds(results_model_evaluat13)"
   ]
  },
  {
   "cell_type": "code",
   "execution_count": null,
   "metadata": {},
   "outputs": [],
   "source": []
  },
  {
   "cell_type": "markdown",
   "metadata": {},
   "source": [
    "### Result from subject 2 region 1\n",
    "### Number of voxels:1021"
   ]
  },
  {
   "cell_type": "code",
   "execution_count": 72,
   "metadata": {},
   "outputs": [
    {
     "data": {
      "text/plain": [
       "{'exp without interaction': [0.14844609334700243, 0.14919693806572776],\n",
       " 'exp with interaction': [0.1508358693227292, 0.15159301059577998],\n",
       " 'power without interaction': [0.1484836725010797, 0.1492343250899106],\n",
       " 'power with interaction': [0.15086561146970268, 0.15162255172288613],\n",
       " 'noise ceiling': [0.626308741108303, 0.71372765645245]}"
      ]
     },
     "execution_count": 72,
     "metadata": {},
     "output_type": "execute_result"
    }
   ],
   "source": [
    "model_dict21=get_design_matrix(location21)\n",
    "results_model_evaluat21=model_evaluation(y_res21, model_dict21)\n",
    "results_model_evaluat21"
   ]
  },
  {
   "cell_type": "code",
   "execution_count": 75,
   "metadata": {},
   "outputs": [
    {
     "data": {
      "image/png": "[encoded data removed]",
      "text/plain": [
       "<Figure size 720x540 with 1 Axes>"
      ]
     },
     "metadata": {
      "needs_background": "light"
     },
     "output_type": "display_data"
    }
   ],
   "source": [
    "barplot_noisebounds(results_model_evaluat21)"
   ]
  },
  {
   "cell_type": "markdown",
   "metadata": {},
   "source": [
    "### Result from subject 2 region 2\n",
    "### Number of voxels:508"
   ]
  },
  {
   "cell_type": "code",
   "execution_count": 76,
   "metadata": {},
   "outputs": [
    {
     "data": {
      "text/plain": [
       "{'exp without interaction': [0.27590521006671376, 0.27767298821637054],\n",
       " 'exp with interaction': [0.2896286611755732, 0.2915283192868454],\n",
       " 'power without interaction': [0.2761994893084641, 0.27796869180059414],\n",
       " 'power with interaction': [0.2898544510191445, 0.29175506458797296],\n",
       " 'noise ceiling': [0.6179259553003312, 0.7075792339220104]}"
      ]
     },
     "execution_count": 76,
     "metadata": {},
     "output_type": "execute_result"
    }
   ],
   "source": [
    "model_dict22=get_design_matrix(location22)\n",
    "results_model_evaluat22=model_evaluation(y_res22, model_dict22)\n",
    "results_model_evaluat22"
   ]
  },
  {
   "cell_type": "code",
   "execution_count": 77,
   "metadata": {},
   "outputs": [
    {
     "data": {
      "image/png": "[encoded data removed]",
      "text/plain": [
       "<Figure size 720x540 with 1 Axes>"
      ]
     },
     "metadata": {
      "needs_background": "light"
     },
     "output_type": "display_data"
    }
   ],
   "source": [
    "barplot_noisebounds(results_model_evaluat22)"
   ]
  },
  {
   "cell_type": "markdown",
   "metadata": {},
   "source": [
    "### Result from subject 2 region 3\n",
    "### NUmber of voxels: 1279"
   ]
  },
  {
   "cell_type": "code",
   "execution_count": 78,
   "metadata": {},
   "outputs": [
    {
     "data": {
      "text/plain": [
       "{'exp without interaction': [0.09043080275894183, 0.09083742613785253],\n",
       " 'exp with interaction': [0.09561112931245935, 0.09604045626401142],\n",
       " 'power without interaction': [0.09064110737715603, 0.09104861734369922],\n",
       " 'power with interaction': [0.09580852202475684, 0.09623867524190129],\n",
       " 'noise ceiling': [0.39555872127630987, 0.5366599467945685]}"
      ]
     },
     "execution_count": 78,
     "metadata": {},
     "output_type": "execute_result"
    }
   ],
   "source": [
    "model_dict23=get_design_matrix(location23)\n",
    "results_model_evaluat23=model_evaluation(y_res23, model_dict23)\n",
    "results_model_evaluat23"
   ]
  },
  {
   "cell_type": "code",
   "execution_count": 79,
   "metadata": {},
   "outputs": [
    {
     "data": {
      "image/png": "[encoded data removed]",
      "text/plain": [
       "<Figure size 720x540 with 1 Axes>"
      ]
     },
     "metadata": {
      "needs_background": "light"
     },
     "output_type": "display_data"
    }
   ],
   "source": [
    "barplot_noisebounds(results_model_evaluat23)"
   ]
  },
  {
   "cell_type": "markdown",
   "metadata": {},
   "source": [
    "### Subject 3 region 1\n",
    "### Number of voxels:847"
   ]
  },
  {
   "cell_type": "code",
   "execution_count": 80,
   "metadata": {},
   "outputs": [],
   "source": [
    "y_res31 = pd.read_csv('y_res31.csv', header=None)\n",
    "col_names=['x', 'y', 'z', 'depth']\n",
    "location31=pd.read_csv('location31.csv',names=col_names)"
   ]
  },
  {
   "cell_type": "code",
   "execution_count": 81,
   "metadata": {},
   "outputs": [
    {
     "data": {
      "text/plain": [
       "{'exp without interaction': [0.09760114442580003, 0.10070287445147764],\n",
       " 'exp with interaction': [0.10331725143637012, 0.10656827753648317],\n",
       " 'power without interaction': [0.09769877969806812, 0.10079533388755355],\n",
       " 'power with interaction': [0.10341400841356446, 0.10665994712201002],\n",
       " 'noise ceiling': [0.2645672440387965, 0.43976879954419634]}"
      ]
     },
     "execution_count": 81,
     "metadata": {},
     "output_type": "execute_result"
    }
   ],
   "source": [
    "model_dict31=get_design_matrix(location31)\n",
    "results_model_evaluat31=model_evaluation(y_res31, model_dict31)\n",
    "results_model_evaluat31"
   ]
  },
  {
   "cell_type": "code",
   "execution_count": 82,
   "metadata": {},
   "outputs": [
    {
     "data": {
      "image/png": "[encoded data removed]",
      "text/plain": [
       "<Figure size 720x540 with 1 Axes>"
      ]
     },
     "metadata": {
      "needs_background": "light"
     },
     "output_type": "display_data"
    }
   ],
   "source": [
    "barplot_noisebounds(results_model_evaluat31)"
   ]
  },
  {
   "cell_type": "markdown",
   "metadata": {},
   "source": [
    "### Subject 3 region 2\n",
    "### Number of voxels: 426"
   ]
  },
  {
   "cell_type": "code",
   "execution_count": 83,
   "metadata": {},
   "outputs": [],
   "source": [
    "y_res32 = pd.read_csv('y_res32.csv', header=None)\n",
    "col_names=['x', 'y', 'z', 'depth']\n",
    "location32=pd.read_csv('location32.csv',names=col_names)"
   ]
  },
  {
   "cell_type": "code",
   "execution_count": 84,
   "metadata": {},
   "outputs": [
    {
     "data": {
      "text/plain": [
       "{'exp without interaction': [0.08802919725615461, 0.09002994425704997],\n",
       " 'exp with interaction': [0.09528962982406011, 0.09735103809154444],\n",
       " 'power without interaction': [0.08844771852474972, 0.09044643422117934],\n",
       " 'power with interaction': [0.09564579391075684, 0.09770495731904637],\n",
       " 'noise ceiling': [0.2884167896577382, 0.4578740210319515]}"
      ]
     },
     "execution_count": 84,
     "metadata": {},
     "output_type": "execute_result"
    }
   ],
   "source": [
    "model_dict32=get_design_matrix(location32)\n",
    "results_model_evaluat32=model_evaluation(y_res32, model_dict32)\n",
    "results_model_evaluat32"
   ]
  },
  {
   "cell_type": "code",
   "execution_count": 85,
   "metadata": {},
   "outputs": [
    {
     "data": {
      "image/png": "[encoded data removed]",
      "text/plain": [
       "<Figure size 720x540 with 1 Axes>"
      ]
     },
     "metadata": {
      "needs_background": "light"
     },
     "output_type": "display_data"
    }
   ],
   "source": [
    "barplot_noisebounds(results_model_evaluat32)"
   ]
  },
  {
   "cell_type": "markdown",
   "metadata": {},
   "source": [
    "### Subject 3 region 3\n",
    "### Number of voxels: 1115"
   ]
  },
  {
   "cell_type": "code",
   "execution_count": 86,
   "metadata": {},
   "outputs": [],
   "source": [
    "y_res33 = pd.read_csv('y_res33.csv', header=None)\n",
    "col_names=['x', 'y', 'z', 'depth']\n",
    "location33=pd.read_csv('location33.csv',names=col_names)"
   ]
  },
  {
   "cell_type": "code",
   "execution_count": 87,
   "metadata": {},
   "outputs": [
    {
     "data": {
      "text/plain": [
       "{'exp without interaction': [0.04507124496023962, 0.04636757404055335],\n",
       " 'exp with interaction': [0.04750489914553997, 0.04887810570759939],\n",
       " 'power without interaction': [0.0452163153644726, 0.0465134919434666],\n",
       " 'power with interaction': [0.047644841153144046, 0.04901887141109676],\n",
       " 'noise ceiling': [0.11213510822862717, 0.3230492589573248]}"
      ]
     },
     "execution_count": 87,
     "metadata": {},
     "output_type": "execute_result"
    }
   ],
   "source": [
    "model_dict33=get_design_matrix(location33)\n",
    "results_model_evaluat33=model_evaluation(y_res33, model_dict33)\n",
    "results_model_evaluat33"
   ]
  },
  {
   "cell_type": "code",
   "execution_count": 88,
   "metadata": {
    "scrolled": true
   },
   "outputs": [
    {
     "data": {
      "image/png": "[encoded data removed]",
      "text/plain": [
       "<Figure size 720x540 with 1 Axes>"
      ]
     },
     "metadata": {
      "needs_background": "light"
     },
     "output_type": "display_data"
    }
   ],
   "source": [
    "barplot_noisebounds(results_model_evaluat33)"
   ]
  },
  {
   "cell_type": "markdown",
   "metadata": {},
   "source": []
  },
  {
   "cell_type": "code",
   "execution_count": null,
   "metadata": {},
   "outputs": [],
   "source": []
  },
  {
   "cell_type": "code",
   "execution_count": null,
   "metadata": {},
   "outputs": [],
   "source": []
  },
  {
   "cell_type": "code",
   "execution_count": null,
   "metadata": {},
   "outputs": [],
   "source": []
  },
  {
   "cell_type": "code",
   "execution_count": null,
   "metadata": {},
   "outputs": [],
   "source": []
  },
  {
   "cell_type": "code",
   "execution_count": null,
   "metadata": {},
   "outputs": [],
   "source": []
  },
  {
   "cell_type": "code",
   "execution_count": null,
   "metadata": {},
   "outputs": [],
   "source": []
  }
 ],
 "metadata": {
  "kernelspec": {
   "display_name": "Python 3",
   "language": "python",
   "name": "python3"
  },
  "language_info": {
   "codemirror_mode": {
    "name": "ipython",
    "version": 3
   },
   "file_extension": ".py",
   "mimetype": "text/x-python",
   "name": "python",
   "nbconvert_exporter": "python",
   "pygments_lexer": "ipython3",
   "version": "3.7.3"
  },
  "widgets": {
   "application/vnd.jupyter.widget-state+json": {
    "state": {},
    "version_major": 2,
    "version_minor": 0
   }
  }
 },
 "nbformat": 4,
 "nbformat_minor": 2
}
